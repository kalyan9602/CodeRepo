{
  "nbformat": 4,
  "nbformat_minor": 0,
  "metadata": {
    "colab": {
      "provenance": []
    },
    "kernelspec": {
      "name": "python3",
      "display_name": "Python 3"
    },
    "language_info": {
      "name": "python"
    }
  },
  "cells": [
    {
      "cell_type": "markdown",
      "source": [
        "Mounting Google Drive"
      ],
      "metadata": {
        "id": "K2llDpNNSRPx"
      }
    },
    {
      "cell_type": "code",
      "execution_count": 1,
      "metadata": {
        "id": "aXtopYRrRmzw",
        "colab": {
          "base_uri": "https://localhost:8080/"
        },
        "outputId": "b1b76941-631b-48d9-a941-21725a5e57b9"
      },
      "outputs": [
        {
          "output_type": "stream",
          "name": "stdout",
          "text": [
            "Mounted at /gdrive\n",
            "/gdrive\n"
          ]
        }
      ],
      "source": [
        "#Import Python Packages\n",
        "#from google.colab import drive\n",
        "#drive.mount('/content/drive/')\n",
        "\n",
        "from google.colab import drive\n",
        "drive.mount('/gdrive')\n",
        "%cd /gdrive"
      ]
    },
    {
      "cell_type": "markdown",
      "source": [
        "Importing Necessary Modules"
      ],
      "metadata": {
        "id": "PJQx6Vc-_3xV"
      }
    },
    {
      "cell_type": "code",
      "source": [
        "import pandas as pd\n",
        "import numpy as np\n",
        "from sklearn.tree import DecisionTreeClassifier\n",
        "from sklearn.model_selection import train_test_split\n",
        "from sklearn import tree, metrics\n",
        "import imblearn\n",
        "from imblearn.under_sampling import RandomUnderSampler\n",
        "from collections import Counter\n",
        "from sklearn.feature_selection import VarianceThreshold\n",
        "from imblearn.over_sampling import SMOTE\n",
        "from sklearn.feature_selection import SelectKBest\n",
        "from sklearn.feature_selection import chi2, f_classif\n",
        "from sklearn.neural_network import MLPClassifier\n",
        "!pip install sklearn-genetic\n",
        "!pip install sklearn-genetic-opt\n",
        "import sklearn_genetic\n",
        "from sklearn_genetic import GASearchCV\n",
        "from sklearn_genetic import ExponentialAdapter\n",
        "from sklearn_genetic.space import Continuous, Categorical, Integer\n",
        "from sklearn.ensemble import RandomForestClassifier\n",
        "from sklearn.model_selection import train_test_split, StratifiedKFold\n",
        "from sklearn.metrics import accuracy_score"
      ],
      "metadata": {
        "id": "i0LnQBS9SaKA",
        "colab": {
          "base_uri": "https://localhost:8080/"
        },
        "outputId": "3bb946e5-aa00-4b31-babb-4eae621e578a"
      },
      "execution_count": 2,
      "outputs": [
        {
          "output_type": "stream",
          "name": "stdout",
          "text": [
            "Looking in indexes: https://pypi.org/simple, https://us-python.pkg.dev/colab-wheels/public/simple/\n",
            "Collecting sklearn-genetic\n",
            "  Downloading sklearn_genetic-0.5.1-py3-none-any.whl (11 kB)\n",
            "Collecting deap>=1.0.2\n",
            "  Downloading deap-1.3.3-cp39-cp39-manylinux_2_5_x86_64.manylinux1_x86_64.manylinux_2_17_x86_64.manylinux2014_x86_64.whl (139 kB)\n",
            "\u001b[2K     \u001b[90m━━━━━━━━━━━━━━━━━━━━━━━━━━━━━━━━━━━━━━━\u001b[0m \u001b[32m139.8/139.8 KB\u001b[0m \u001b[31m6.5 MB/s\u001b[0m eta \u001b[36m0:00:00\u001b[0m\n",
            "\u001b[?25hRequirement already satisfied: numpy in /usr/local/lib/python3.9/dist-packages (from sklearn-genetic) (1.22.4)\n",
            "Requirement already satisfied: scikit-learn>=0.23 in /usr/local/lib/python3.9/dist-packages (from sklearn-genetic) (1.2.2)\n",
            "Collecting multiprocess\n",
            "  Downloading multiprocess-0.70.14-py39-none-any.whl (132 kB)\n",
            "\u001b[2K     \u001b[90m━━━━━━━━━━━━━━━━━━━━━━━━━━━━━━━━━━━━━━\u001b[0m \u001b[32m132.9/132.9 KB\u001b[0m \u001b[31m17.8 MB/s\u001b[0m eta \u001b[36m0:00:00\u001b[0m\n",
            "\u001b[?25hRequirement already satisfied: scipy>=1.3.2 in /usr/local/lib/python3.9/dist-packages (from scikit-learn>=0.23->sklearn-genetic) (1.10.1)\n",
            "Requirement already satisfied: joblib>=1.1.1 in /usr/local/lib/python3.9/dist-packages (from scikit-learn>=0.23->sklearn-genetic) (1.1.1)\n",
            "Requirement already satisfied: threadpoolctl>=2.0.0 in /usr/local/lib/python3.9/dist-packages (from scikit-learn>=0.23->sklearn-genetic) (3.1.0)\n",
            "Collecting dill>=0.3.6\n",
            "  Downloading dill-0.3.6-py3-none-any.whl (110 kB)\n",
            "\u001b[2K     \u001b[90m━━━━━━━━━━━━━━━━━━━━━━━━━━━━━━━━━━━━━━\u001b[0m \u001b[32m110.5/110.5 KB\u001b[0m \u001b[31m15.2 MB/s\u001b[0m eta \u001b[36m0:00:00\u001b[0m\n",
            "\u001b[?25hInstalling collected packages: dill, deap, multiprocess, sklearn-genetic\n",
            "Successfully installed deap-1.3.3 dill-0.3.6 multiprocess-0.70.14 sklearn-genetic-0.5.1\n",
            "Looking in indexes: https://pypi.org/simple, https://us-python.pkg.dev/colab-wheels/public/simple/\n",
            "Collecting sklearn-genetic-opt\n",
            "  Downloading sklearn_genetic_opt-0.10.1-py3-none-any.whl (33 kB)\n",
            "Requirement already satisfied: numpy>=1.19.0 in /usr/local/lib/python3.9/dist-packages (from sklearn-genetic-opt) (1.22.4)\n",
            "Requirement already satisfied: scikit-learn>=1.1.0 in /usr/local/lib/python3.9/dist-packages (from sklearn-genetic-opt) (1.2.2)\n",
            "Requirement already satisfied: deap>=1.3.3 in /usr/local/lib/python3.9/dist-packages (from sklearn-genetic-opt) (1.3.3)\n",
            "Requirement already satisfied: tqdm>=4.61.1 in /usr/local/lib/python3.9/dist-packages (from sklearn-genetic-opt) (4.65.0)\n",
            "Requirement already satisfied: joblib>=1.1.1 in /usr/local/lib/python3.9/dist-packages (from scikit-learn>=1.1.0->sklearn-genetic-opt) (1.1.1)\n",
            "Requirement already satisfied: scipy>=1.3.2 in /usr/local/lib/python3.9/dist-packages (from scikit-learn>=1.1.0->sklearn-genetic-opt) (1.10.1)\n",
            "Requirement already satisfied: threadpoolctl>=2.0.0 in /usr/local/lib/python3.9/dist-packages (from scikit-learn>=1.1.0->sklearn-genetic-opt) (3.1.0)\n",
            "Installing collected packages: sklearn-genetic-opt\n",
            "Successfully installed sklearn-genetic-opt-0.10.1\n"
          ]
        }
      ]
    },
    {
      "cell_type": "code",
      "source": [
        "#Read files\n",
        "trainfile = r'/gdrive/My Drive/A5/train.csv'\n",
        "trainData = pd.read_csv(trainfile) #creates a dataframe\n",
        "\n",
        "testfile = r'/gdrive/My Drive/A5/test.csv'\n",
        "testData = pd.read_csv(testfile)  #creates a dataframe\n",
        "\n",
        "print(trainData.shape)\n",
        "print(testData.shape)"
      ],
      "metadata": {
        "id": "prfL6xTmSzQW",
        "colab": {
          "base_uri": "https://localhost:8080/"
        },
        "outputId": "99fc1e1b-1b72-4e24-c988-1574d7b42b88"
      },
      "execution_count": 3,
      "outputs": [
        {
          "output_type": "stream",
          "name": "stdout",
          "text": [
            "(76020, 371)\n",
            "(75818, 370)\n"
          ]
        }
      ]
    },
    {
      "cell_type": "markdown",
      "source": [
        "**EDA**"
      ],
      "metadata": {
        "id": "aaMCgQjNCIDl"
      }
    },
    {
      "cell_type": "code",
      "source": [
        "trainData.info()\n",
        "print()\n",
        "testData.info()"
      ],
      "metadata": {
        "colab": {
          "base_uri": "https://localhost:8080/"
        },
        "id": "xrXR22RWSBXj",
        "outputId": "ede42881-aea1-4706-d5c1-781f0b142d9f"
      },
      "execution_count": 4,
      "outputs": [
        {
          "output_type": "stream",
          "name": "stdout",
          "text": [
            "<class 'pandas.core.frame.DataFrame'>\n",
            "RangeIndex: 76020 entries, 0 to 76019\n",
            "Columns: 371 entries, ID to TARGET\n",
            "dtypes: float64(111), int64(260)\n",
            "memory usage: 215.2 MB\n",
            "\n",
            "<class 'pandas.core.frame.DataFrame'>\n",
            "RangeIndex: 75818 entries, 0 to 75817\n",
            "Columns: 370 entries, ID to var38\n",
            "dtypes: float64(110), int64(260)\n",
            "memory usage: 214.0 MB\n"
          ]
        }
      ]
    },
    {
      "cell_type": "code",
      "source": [
        "trainData.describe()"
      ],
      "metadata": {
        "colab": {
          "base_uri": "https://localhost:8080/",
          "height": 393
        },
        "id": "XnoSmzvQSBZY",
        "outputId": "f2891249-df9d-4e90-b89b-77e75ffd6187"
      },
      "execution_count": 5,
      "outputs": [
        {
          "output_type": "execute_result",
          "data": {
            "text/plain": [
              "                  ID           var3         var15  imp_ent_var16_ult1  \\\n",
              "count   76020.000000   76020.000000  76020.000000        76020.000000   \n",
              "mean    75964.050723   -1523.199277     33.212865           86.208265   \n",
              "std     43781.947379   39033.462364     12.956486         1614.757313   \n",
              "min         1.000000 -999999.000000      5.000000            0.000000   \n",
              "25%     38104.750000       2.000000     23.000000            0.000000   \n",
              "50%     76043.000000       2.000000     28.000000            0.000000   \n",
              "75%    113748.750000       2.000000     40.000000            0.000000   \n",
              "max    151838.000000     238.000000    105.000000       210000.000000   \n",
              "\n",
              "       imp_op_var39_comer_ult1  imp_op_var39_comer_ult3  \\\n",
              "count             76020.000000             76020.000000   \n",
              "mean                 72.363067               119.529632   \n",
              "std                 339.315831               546.266294   \n",
              "min                   0.000000                 0.000000   \n",
              "25%                   0.000000                 0.000000   \n",
              "50%                   0.000000                 0.000000   \n",
              "75%                   0.000000                 0.000000   \n",
              "max               12888.030000             21024.810000   \n",
              "\n",
              "       imp_op_var40_comer_ult1  imp_op_var40_comer_ult3  \\\n",
              "count             76020.000000             76020.000000   \n",
              "mean                  3.559130                 6.472698   \n",
              "std                  93.155749               153.737066   \n",
              "min                   0.000000                 0.000000   \n",
              "25%                   0.000000                 0.000000   \n",
              "50%                   0.000000                 0.000000   \n",
              "75%                   0.000000                 0.000000   \n",
              "max                8237.820000             11073.570000   \n",
              "\n",
              "       imp_op_var40_efect_ult1  imp_op_var40_efect_ult3  ...  \\\n",
              "count             76020.000000             76020.000000  ...   \n",
              "mean                  0.412946                 0.567352  ...   \n",
              "std                  30.604864                36.513513  ...   \n",
              "min                   0.000000                 0.000000  ...   \n",
              "25%                   0.000000                 0.000000  ...   \n",
              "50%                   0.000000                 0.000000  ...   \n",
              "75%                   0.000000                 0.000000  ...   \n",
              "max                6600.000000              6600.000000  ...   \n",
              "\n",
              "       saldo_medio_var33_hace2  saldo_medio_var33_hace3  \\\n",
              "count             76020.000000             76020.000000   \n",
              "mean                  7.935824                 1.365146   \n",
              "std                 455.887218               113.959637   \n",
              "min                   0.000000                 0.000000   \n",
              "25%                   0.000000                 0.000000   \n",
              "50%                   0.000000                 0.000000   \n",
              "75%                   0.000000                 0.000000   \n",
              "max               50003.880000             20385.720000   \n",
              "\n",
              "       saldo_medio_var33_ult1  saldo_medio_var33_ult3  \\\n",
              "count            76020.000000            76020.000000   \n",
              "mean                12.215580                8.784074   \n",
              "std                783.207399              538.439211   \n",
              "min                  0.000000                0.000000   \n",
              "25%                  0.000000                0.000000   \n",
              "50%                  0.000000                0.000000   \n",
              "75%                  0.000000                0.000000   \n",
              "max             138831.630000            91778.730000   \n",
              "\n",
              "       saldo_medio_var44_hace2  saldo_medio_var44_hace3  \\\n",
              "count             76020.000000             76020.000000   \n",
              "mean                 31.505324                 1.858575   \n",
              "std                2013.125393               147.786584   \n",
              "min                   0.000000                 0.000000   \n",
              "25%                   0.000000                 0.000000   \n",
              "50%                   0.000000                 0.000000   \n",
              "75%                   0.000000                 0.000000   \n",
              "max              438329.220000             24650.010000   \n",
              "\n",
              "       saldo_medio_var44_ult1  saldo_medio_var44_ult3         var38  \\\n",
              "count            76020.000000            76020.000000  7.602000e+04   \n",
              "mean                76.026165               56.614351  1.172358e+05   \n",
              "std               4040.337842             2852.579397  1.826646e+05   \n",
              "min                  0.000000                0.000000  5.163750e+03   \n",
              "25%                  0.000000                0.000000  6.787061e+04   \n",
              "50%                  0.000000                0.000000  1.064092e+05   \n",
              "75%                  0.000000                0.000000  1.187563e+05   \n",
              "max             681462.900000           397884.300000  2.203474e+07   \n",
              "\n",
              "             TARGET  \n",
              "count  76020.000000  \n",
              "mean       0.039569  \n",
              "std        0.194945  \n",
              "min        0.000000  \n",
              "25%        0.000000  \n",
              "50%        0.000000  \n",
              "75%        0.000000  \n",
              "max        1.000000  \n",
              "\n",
              "[8 rows x 371 columns]"
            ],
            "text/html": [
              "\n",
              "  <div id=\"df-6b04f351-98f8-4654-bc83-323d0947672b\">\n",
              "    <div class=\"colab-df-container\">\n",
              "      <div>\n",
              "<style scoped>\n",
              "    .dataframe tbody tr th:only-of-type {\n",
              "        vertical-align: middle;\n",
              "    }\n",
              "\n",
              "    .dataframe tbody tr th {\n",
              "        vertical-align: top;\n",
              "    }\n",
              "\n",
              "    .dataframe thead th {\n",
              "        text-align: right;\n",
              "    }\n",
              "</style>\n",
              "<table border=\"1\" class=\"dataframe\">\n",
              "  <thead>\n",
              "    <tr style=\"text-align: right;\">\n",
              "      <th></th>\n",
              "      <th>ID</th>\n",
              "      <th>var3</th>\n",
              "      <th>var15</th>\n",
              "      <th>imp_ent_var16_ult1</th>\n",
              "      <th>imp_op_var39_comer_ult1</th>\n",
              "      <th>imp_op_var39_comer_ult3</th>\n",
              "      <th>imp_op_var40_comer_ult1</th>\n",
              "      <th>imp_op_var40_comer_ult3</th>\n",
              "      <th>imp_op_var40_efect_ult1</th>\n",
              "      <th>imp_op_var40_efect_ult3</th>\n",
              "      <th>...</th>\n",
              "      <th>saldo_medio_var33_hace2</th>\n",
              "      <th>saldo_medio_var33_hace3</th>\n",
              "      <th>saldo_medio_var33_ult1</th>\n",
              "      <th>saldo_medio_var33_ult3</th>\n",
              "      <th>saldo_medio_var44_hace2</th>\n",
              "      <th>saldo_medio_var44_hace3</th>\n",
              "      <th>saldo_medio_var44_ult1</th>\n",
              "      <th>saldo_medio_var44_ult3</th>\n",
              "      <th>var38</th>\n",
              "      <th>TARGET</th>\n",
              "    </tr>\n",
              "  </thead>\n",
              "  <tbody>\n",
              "    <tr>\n",
              "      <th>count</th>\n",
              "      <td>76020.000000</td>\n",
              "      <td>76020.000000</td>\n",
              "      <td>76020.000000</td>\n",
              "      <td>76020.000000</td>\n",
              "      <td>76020.000000</td>\n",
              "      <td>76020.000000</td>\n",
              "      <td>76020.000000</td>\n",
              "      <td>76020.000000</td>\n",
              "      <td>76020.000000</td>\n",
              "      <td>76020.000000</td>\n",
              "      <td>...</td>\n",
              "      <td>76020.000000</td>\n",
              "      <td>76020.000000</td>\n",
              "      <td>76020.000000</td>\n",
              "      <td>76020.000000</td>\n",
              "      <td>76020.000000</td>\n",
              "      <td>76020.000000</td>\n",
              "      <td>76020.000000</td>\n",
              "      <td>76020.000000</td>\n",
              "      <td>7.602000e+04</td>\n",
              "      <td>76020.000000</td>\n",
              "    </tr>\n",
              "    <tr>\n",
              "      <th>mean</th>\n",
              "      <td>75964.050723</td>\n",
              "      <td>-1523.199277</td>\n",
              "      <td>33.212865</td>\n",
              "      <td>86.208265</td>\n",
              "      <td>72.363067</td>\n",
              "      <td>119.529632</td>\n",
              "      <td>3.559130</td>\n",
              "      <td>6.472698</td>\n",
              "      <td>0.412946</td>\n",
              "      <td>0.567352</td>\n",
              "      <td>...</td>\n",
              "      <td>7.935824</td>\n",
              "      <td>1.365146</td>\n",
              "      <td>12.215580</td>\n",
              "      <td>8.784074</td>\n",
              "      <td>31.505324</td>\n",
              "      <td>1.858575</td>\n",
              "      <td>76.026165</td>\n",
              "      <td>56.614351</td>\n",
              "      <td>1.172358e+05</td>\n",
              "      <td>0.039569</td>\n",
              "    </tr>\n",
              "    <tr>\n",
              "      <th>std</th>\n",
              "      <td>43781.947379</td>\n",
              "      <td>39033.462364</td>\n",
              "      <td>12.956486</td>\n",
              "      <td>1614.757313</td>\n",
              "      <td>339.315831</td>\n",
              "      <td>546.266294</td>\n",
              "      <td>93.155749</td>\n",
              "      <td>153.737066</td>\n",
              "      <td>30.604864</td>\n",
              "      <td>36.513513</td>\n",
              "      <td>...</td>\n",
              "      <td>455.887218</td>\n",
              "      <td>113.959637</td>\n",
              "      <td>783.207399</td>\n",
              "      <td>538.439211</td>\n",
              "      <td>2013.125393</td>\n",
              "      <td>147.786584</td>\n",
              "      <td>4040.337842</td>\n",
              "      <td>2852.579397</td>\n",
              "      <td>1.826646e+05</td>\n",
              "      <td>0.194945</td>\n",
              "    </tr>\n",
              "    <tr>\n",
              "      <th>min</th>\n",
              "      <td>1.000000</td>\n",
              "      <td>-999999.000000</td>\n",
              "      <td>5.000000</td>\n",
              "      <td>0.000000</td>\n",
              "      <td>0.000000</td>\n",
              "      <td>0.000000</td>\n",
              "      <td>0.000000</td>\n",
              "      <td>0.000000</td>\n",
              "      <td>0.000000</td>\n",
              "      <td>0.000000</td>\n",
              "      <td>...</td>\n",
              "      <td>0.000000</td>\n",
              "      <td>0.000000</td>\n",
              "      <td>0.000000</td>\n",
              "      <td>0.000000</td>\n",
              "      <td>0.000000</td>\n",
              "      <td>0.000000</td>\n",
              "      <td>0.000000</td>\n",
              "      <td>0.000000</td>\n",
              "      <td>5.163750e+03</td>\n",
              "      <td>0.000000</td>\n",
              "    </tr>\n",
              "    <tr>\n",
              "      <th>25%</th>\n",
              "      <td>38104.750000</td>\n",
              "      <td>2.000000</td>\n",
              "      <td>23.000000</td>\n",
              "      <td>0.000000</td>\n",
              "      <td>0.000000</td>\n",
              "      <td>0.000000</td>\n",
              "      <td>0.000000</td>\n",
              "      <td>0.000000</td>\n",
              "      <td>0.000000</td>\n",
              "      <td>0.000000</td>\n",
              "      <td>...</td>\n",
              "      <td>0.000000</td>\n",
              "      <td>0.000000</td>\n",
              "      <td>0.000000</td>\n",
              "      <td>0.000000</td>\n",
              "      <td>0.000000</td>\n",
              "      <td>0.000000</td>\n",
              "      <td>0.000000</td>\n",
              "      <td>0.000000</td>\n",
              "      <td>6.787061e+04</td>\n",
              "      <td>0.000000</td>\n",
              "    </tr>\n",
              "    <tr>\n",
              "      <th>50%</th>\n",
              "      <td>76043.000000</td>\n",
              "      <td>2.000000</td>\n",
              "      <td>28.000000</td>\n",
              "      <td>0.000000</td>\n",
              "      <td>0.000000</td>\n",
              "      <td>0.000000</td>\n",
              "      <td>0.000000</td>\n",
              "      <td>0.000000</td>\n",
              "      <td>0.000000</td>\n",
              "      <td>0.000000</td>\n",
              "      <td>...</td>\n",
              "      <td>0.000000</td>\n",
              "      <td>0.000000</td>\n",
              "      <td>0.000000</td>\n",
              "      <td>0.000000</td>\n",
              "      <td>0.000000</td>\n",
              "      <td>0.000000</td>\n",
              "      <td>0.000000</td>\n",
              "      <td>0.000000</td>\n",
              "      <td>1.064092e+05</td>\n",
              "      <td>0.000000</td>\n",
              "    </tr>\n",
              "    <tr>\n",
              "      <th>75%</th>\n",
              "      <td>113748.750000</td>\n",
              "      <td>2.000000</td>\n",
              "      <td>40.000000</td>\n",
              "      <td>0.000000</td>\n",
              "      <td>0.000000</td>\n",
              "      <td>0.000000</td>\n",
              "      <td>0.000000</td>\n",
              "      <td>0.000000</td>\n",
              "      <td>0.000000</td>\n",
              "      <td>0.000000</td>\n",
              "      <td>...</td>\n",
              "      <td>0.000000</td>\n",
              "      <td>0.000000</td>\n",
              "      <td>0.000000</td>\n",
              "      <td>0.000000</td>\n",
              "      <td>0.000000</td>\n",
              "      <td>0.000000</td>\n",
              "      <td>0.000000</td>\n",
              "      <td>0.000000</td>\n",
              "      <td>1.187563e+05</td>\n",
              "      <td>0.000000</td>\n",
              "    </tr>\n",
              "    <tr>\n",
              "      <th>max</th>\n",
              "      <td>151838.000000</td>\n",
              "      <td>238.000000</td>\n",
              "      <td>105.000000</td>\n",
              "      <td>210000.000000</td>\n",
              "      <td>12888.030000</td>\n",
              "      <td>21024.810000</td>\n",
              "      <td>8237.820000</td>\n",
              "      <td>11073.570000</td>\n",
              "      <td>6600.000000</td>\n",
              "      <td>6600.000000</td>\n",
              "      <td>...</td>\n",
              "      <td>50003.880000</td>\n",
              "      <td>20385.720000</td>\n",
              "      <td>138831.630000</td>\n",
              "      <td>91778.730000</td>\n",
              "      <td>438329.220000</td>\n",
              "      <td>24650.010000</td>\n",
              "      <td>681462.900000</td>\n",
              "      <td>397884.300000</td>\n",
              "      <td>2.203474e+07</td>\n",
              "      <td>1.000000</td>\n",
              "    </tr>\n",
              "  </tbody>\n",
              "</table>\n",
              "<p>8 rows × 371 columns</p>\n",
              "</div>\n",
              "      <button class=\"colab-df-convert\" onclick=\"convertToInteractive('df-6b04f351-98f8-4654-bc83-323d0947672b')\"\n",
              "              title=\"Convert this dataframe to an interactive table.\"\n",
              "              style=\"display:none;\">\n",
              "        \n",
              "  <svg xmlns=\"http://www.w3.org/2000/svg\" height=\"24px\"viewBox=\"0 0 24 24\"\n",
              "       width=\"24px\">\n",
              "    <path d=\"M0 0h24v24H0V0z\" fill=\"none\"/>\n",
              "    <path d=\"M18.56 5.44l.94 2.06.94-2.06 2.06-.94-2.06-.94-.94-2.06-.94 2.06-2.06.94zm-11 1L8.5 8.5l.94-2.06 2.06-.94-2.06-.94L8.5 2.5l-.94 2.06-2.06.94zm10 10l.94 2.06.94-2.06 2.06-.94-2.06-.94-.94-2.06-.94 2.06-2.06.94z\"/><path d=\"M17.41 7.96l-1.37-1.37c-.4-.4-.92-.59-1.43-.59-.52 0-1.04.2-1.43.59L10.3 9.45l-7.72 7.72c-.78.78-.78 2.05 0 2.83L4 21.41c.39.39.9.59 1.41.59.51 0 1.02-.2 1.41-.59l7.78-7.78 2.81-2.81c.8-.78.8-2.07 0-2.86zM5.41 20L4 18.59l7.72-7.72 1.47 1.35L5.41 20z\"/>\n",
              "  </svg>\n",
              "      </button>\n",
              "      \n",
              "  <style>\n",
              "    .colab-df-container {\n",
              "      display:flex;\n",
              "      flex-wrap:wrap;\n",
              "      gap: 12px;\n",
              "    }\n",
              "\n",
              "    .colab-df-convert {\n",
              "      background-color: #E8F0FE;\n",
              "      border: none;\n",
              "      border-radius: 50%;\n",
              "      cursor: pointer;\n",
              "      display: none;\n",
              "      fill: #1967D2;\n",
              "      height: 32px;\n",
              "      padding: 0 0 0 0;\n",
              "      width: 32px;\n",
              "    }\n",
              "\n",
              "    .colab-df-convert:hover {\n",
              "      background-color: #E2EBFA;\n",
              "      box-shadow: 0px 1px 2px rgba(60, 64, 67, 0.3), 0px 1px 3px 1px rgba(60, 64, 67, 0.15);\n",
              "      fill: #174EA6;\n",
              "    }\n",
              "\n",
              "    [theme=dark] .colab-df-convert {\n",
              "      background-color: #3B4455;\n",
              "      fill: #D2E3FC;\n",
              "    }\n",
              "\n",
              "    [theme=dark] .colab-df-convert:hover {\n",
              "      background-color: #434B5C;\n",
              "      box-shadow: 0px 1px 3px 1px rgba(0, 0, 0, 0.15);\n",
              "      filter: drop-shadow(0px 1px 2px rgba(0, 0, 0, 0.3));\n",
              "      fill: #FFFFFF;\n",
              "    }\n",
              "  </style>\n",
              "\n",
              "      <script>\n",
              "        const buttonEl =\n",
              "          document.querySelector('#df-6b04f351-98f8-4654-bc83-323d0947672b button.colab-df-convert');\n",
              "        buttonEl.style.display =\n",
              "          google.colab.kernel.accessAllowed ? 'block' : 'none';\n",
              "\n",
              "        async function convertToInteractive(key) {\n",
              "          const element = document.querySelector('#df-6b04f351-98f8-4654-bc83-323d0947672b');\n",
              "          const dataTable =\n",
              "            await google.colab.kernel.invokeFunction('convertToInteractive',\n",
              "                                                     [key], {});\n",
              "          if (!dataTable) return;\n",
              "\n",
              "          const docLinkHtml = 'Like what you see? Visit the ' +\n",
              "            '<a target=\"_blank\" href=https://colab.research.google.com/notebooks/data_table.ipynb>data table notebook</a>'\n",
              "            + ' to learn more about interactive tables.';\n",
              "          element.innerHTML = '';\n",
              "          dataTable['output_type'] = 'display_data';\n",
              "          await google.colab.output.renderOutput(dataTable, element);\n",
              "          const docLink = document.createElement('div');\n",
              "          docLink.innerHTML = docLinkHtml;\n",
              "          element.appendChild(docLink);\n",
              "        }\n",
              "      </script>\n",
              "    </div>\n",
              "  </div>\n",
              "  "
            ]
          },
          "metadata": {},
          "execution_count": 5
        }
      ]
    },
    {
      "cell_type": "code",
      "source": [
        "#To get list of names of all Columns from a dataframe\n",
        "\n",
        "TrainCols = list(trainData.columns.values)\n",
        "TestCols = list(testData.columns.values)\n",
        "print(TrainCols)\n",
        "print(TestCols)"
      ],
      "metadata": {
        "colab": {
          "base_uri": "https://localhost:8080/"
        },
        "id": "b6tFoCdbSBbG",
        "outputId": "d5aeb18d-6d59-4646-bc76-2df0846b4260"
      },
      "execution_count": 6,
      "outputs": [
        {
          "output_type": "stream",
          "name": "stdout",
          "text": [
            "['ID', 'var3', 'var15', 'imp_ent_var16_ult1', 'imp_op_var39_comer_ult1', 'imp_op_var39_comer_ult3', 'imp_op_var40_comer_ult1', 'imp_op_var40_comer_ult3', 'imp_op_var40_efect_ult1', 'imp_op_var40_efect_ult3', 'imp_op_var40_ult1', 'imp_op_var41_comer_ult1', 'imp_op_var41_comer_ult3', 'imp_op_var41_efect_ult1', 'imp_op_var41_efect_ult3', 'imp_op_var41_ult1', 'imp_op_var39_efect_ult1', 'imp_op_var39_efect_ult3', 'imp_op_var39_ult1', 'imp_sal_var16_ult1', 'ind_var1_0', 'ind_var1', 'ind_var2_0', 'ind_var2', 'ind_var5_0', 'ind_var5', 'ind_var6_0', 'ind_var6', 'ind_var8_0', 'ind_var8', 'ind_var12_0', 'ind_var12', 'ind_var13_0', 'ind_var13_corto_0', 'ind_var13_corto', 'ind_var13_largo_0', 'ind_var13_largo', 'ind_var13_medio_0', 'ind_var13_medio', 'ind_var13', 'ind_var14_0', 'ind_var14', 'ind_var17_0', 'ind_var17', 'ind_var18_0', 'ind_var18', 'ind_var19', 'ind_var20_0', 'ind_var20', 'ind_var24_0', 'ind_var24', 'ind_var25_cte', 'ind_var26_0', 'ind_var26_cte', 'ind_var26', 'ind_var25_0', 'ind_var25', 'ind_var27_0', 'ind_var28_0', 'ind_var28', 'ind_var27', 'ind_var29_0', 'ind_var29', 'ind_var30_0', 'ind_var30', 'ind_var31_0', 'ind_var31', 'ind_var32_cte', 'ind_var32_0', 'ind_var32', 'ind_var33_0', 'ind_var33', 'ind_var34_0', 'ind_var34', 'ind_var37_cte', 'ind_var37_0', 'ind_var37', 'ind_var39_0', 'ind_var40_0', 'ind_var40', 'ind_var41_0', 'ind_var41', 'ind_var39', 'ind_var44_0', 'ind_var44', 'ind_var46_0', 'ind_var46', 'num_var1_0', 'num_var1', 'num_var4', 'num_var5_0', 'num_var5', 'num_var6_0', 'num_var6', 'num_var8_0', 'num_var8', 'num_var12_0', 'num_var12', 'num_var13_0', 'num_var13_corto_0', 'num_var13_corto', 'num_var13_largo_0', 'num_var13_largo', 'num_var13_medio_0', 'num_var13_medio', 'num_var13', 'num_var14_0', 'num_var14', 'num_var17_0', 'num_var17', 'num_var18_0', 'num_var18', 'num_var20_0', 'num_var20', 'num_var24_0', 'num_var24', 'num_var26_0', 'num_var26', 'num_var25_0', 'num_var25', 'num_op_var40_hace2', 'num_op_var40_hace3', 'num_op_var40_ult1', 'num_op_var40_ult3', 'num_op_var41_hace2', 'num_op_var41_hace3', 'num_op_var41_ult1', 'num_op_var41_ult3', 'num_op_var39_hace2', 'num_op_var39_hace3', 'num_op_var39_ult1', 'num_op_var39_ult3', 'num_var27_0', 'num_var28_0', 'num_var28', 'num_var27', 'num_var29_0', 'num_var29', 'num_var30_0', 'num_var30', 'num_var31_0', 'num_var31', 'num_var32_0', 'num_var32', 'num_var33_0', 'num_var33', 'num_var34_0', 'num_var34', 'num_var35', 'num_var37_med_ult2', 'num_var37_0', 'num_var37', 'num_var39_0', 'num_var40_0', 'num_var40', 'num_var41_0', 'num_var41', 'num_var39', 'num_var42_0', 'num_var42', 'num_var44_0', 'num_var44', 'num_var46_0', 'num_var46', 'saldo_var1', 'saldo_var5', 'saldo_var6', 'saldo_var8', 'saldo_var12', 'saldo_var13_corto', 'saldo_var13_largo', 'saldo_var13_medio', 'saldo_var13', 'saldo_var14', 'saldo_var17', 'saldo_var18', 'saldo_var20', 'saldo_var24', 'saldo_var26', 'saldo_var25', 'saldo_var28', 'saldo_var27', 'saldo_var29', 'saldo_var30', 'saldo_var31', 'saldo_var32', 'saldo_var33', 'saldo_var34', 'saldo_var37', 'saldo_var40', 'saldo_var41', 'saldo_var42', 'saldo_var44', 'saldo_var46', 'var36', 'delta_imp_amort_var18_1y3', 'delta_imp_amort_var34_1y3', 'delta_imp_aport_var13_1y3', 'delta_imp_aport_var17_1y3', 'delta_imp_aport_var33_1y3', 'delta_imp_compra_var44_1y3', 'delta_imp_reemb_var13_1y3', 'delta_imp_reemb_var17_1y3', 'delta_imp_reemb_var33_1y3', 'delta_imp_trasp_var17_in_1y3', 'delta_imp_trasp_var17_out_1y3', 'delta_imp_trasp_var33_in_1y3', 'delta_imp_trasp_var33_out_1y3', 'delta_imp_venta_var44_1y3', 'delta_num_aport_var13_1y3', 'delta_num_aport_var17_1y3', 'delta_num_aport_var33_1y3', 'delta_num_compra_var44_1y3', 'delta_num_reemb_var13_1y3', 'delta_num_reemb_var17_1y3', 'delta_num_reemb_var33_1y3', 'delta_num_trasp_var17_in_1y3', 'delta_num_trasp_var17_out_1y3', 'delta_num_trasp_var33_in_1y3', 'delta_num_trasp_var33_out_1y3', 'delta_num_venta_var44_1y3', 'imp_amort_var18_hace3', 'imp_amort_var18_ult1', 'imp_amort_var34_hace3', 'imp_amort_var34_ult1', 'imp_aport_var13_hace3', 'imp_aport_var13_ult1', 'imp_aport_var17_hace3', 'imp_aport_var17_ult1', 'imp_aport_var33_hace3', 'imp_aport_var33_ult1', 'imp_var7_emit_ult1', 'imp_var7_recib_ult1', 'imp_compra_var44_hace3', 'imp_compra_var44_ult1', 'imp_reemb_var13_hace3', 'imp_reemb_var13_ult1', 'imp_reemb_var17_hace3', 'imp_reemb_var17_ult1', 'imp_reemb_var33_hace3', 'imp_reemb_var33_ult1', 'imp_var43_emit_ult1', 'imp_trans_var37_ult1', 'imp_trasp_var17_in_hace3', 'imp_trasp_var17_in_ult1', 'imp_trasp_var17_out_hace3', 'imp_trasp_var17_out_ult1', 'imp_trasp_var33_in_hace3', 'imp_trasp_var33_in_ult1', 'imp_trasp_var33_out_hace3', 'imp_trasp_var33_out_ult1', 'imp_venta_var44_hace3', 'imp_venta_var44_ult1', 'ind_var7_emit_ult1', 'ind_var7_recib_ult1', 'ind_var10_ult1', 'ind_var10cte_ult1', 'ind_var9_cte_ult1', 'ind_var9_ult1', 'ind_var43_emit_ult1', 'ind_var43_recib_ult1', 'var21', 'num_var2_0_ult1', 'num_var2_ult1', 'num_aport_var13_hace3', 'num_aport_var13_ult1', 'num_aport_var17_hace3', 'num_aport_var17_ult1', 'num_aport_var33_hace3', 'num_aport_var33_ult1', 'num_var7_emit_ult1', 'num_var7_recib_ult1', 'num_compra_var44_hace3', 'num_compra_var44_ult1', 'num_ent_var16_ult1', 'num_var22_hace2', 'num_var22_hace3', 'num_var22_ult1', 'num_var22_ult3', 'num_med_var22_ult3', 'num_med_var45_ult3', 'num_meses_var5_ult3', 'num_meses_var8_ult3', 'num_meses_var12_ult3', 'num_meses_var13_corto_ult3', 'num_meses_var13_largo_ult3', 'num_meses_var13_medio_ult3', 'num_meses_var17_ult3', 'num_meses_var29_ult3', 'num_meses_var33_ult3', 'num_meses_var39_vig_ult3', 'num_meses_var44_ult3', 'num_op_var39_comer_ult1', 'num_op_var39_comer_ult3', 'num_op_var40_comer_ult1', 'num_op_var40_comer_ult3', 'num_op_var40_efect_ult1', 'num_op_var40_efect_ult3', 'num_op_var41_comer_ult1', 'num_op_var41_comer_ult3', 'num_op_var41_efect_ult1', 'num_op_var41_efect_ult3', 'num_op_var39_efect_ult1', 'num_op_var39_efect_ult3', 'num_reemb_var13_hace3', 'num_reemb_var13_ult1', 'num_reemb_var17_hace3', 'num_reemb_var17_ult1', 'num_reemb_var33_hace3', 'num_reemb_var33_ult1', 'num_sal_var16_ult1', 'num_var43_emit_ult1', 'num_var43_recib_ult1', 'num_trasp_var11_ult1', 'num_trasp_var17_in_hace3', 'num_trasp_var17_in_ult1', 'num_trasp_var17_out_hace3', 'num_trasp_var17_out_ult1', 'num_trasp_var33_in_hace3', 'num_trasp_var33_in_ult1', 'num_trasp_var33_out_hace3', 'num_trasp_var33_out_ult1', 'num_venta_var44_hace3', 'num_venta_var44_ult1', 'num_var45_hace2', 'num_var45_hace3', 'num_var45_ult1', 'num_var45_ult3', 'saldo_var2_ult1', 'saldo_medio_var5_hace2', 'saldo_medio_var5_hace3', 'saldo_medio_var5_ult1', 'saldo_medio_var5_ult3', 'saldo_medio_var8_hace2', 'saldo_medio_var8_hace3', 'saldo_medio_var8_ult1', 'saldo_medio_var8_ult3', 'saldo_medio_var12_hace2', 'saldo_medio_var12_hace3', 'saldo_medio_var12_ult1', 'saldo_medio_var12_ult3', 'saldo_medio_var13_corto_hace2', 'saldo_medio_var13_corto_hace3', 'saldo_medio_var13_corto_ult1', 'saldo_medio_var13_corto_ult3', 'saldo_medio_var13_largo_hace2', 'saldo_medio_var13_largo_hace3', 'saldo_medio_var13_largo_ult1', 'saldo_medio_var13_largo_ult3', 'saldo_medio_var13_medio_hace2', 'saldo_medio_var13_medio_hace3', 'saldo_medio_var13_medio_ult1', 'saldo_medio_var13_medio_ult3', 'saldo_medio_var17_hace2', 'saldo_medio_var17_hace3', 'saldo_medio_var17_ult1', 'saldo_medio_var17_ult3', 'saldo_medio_var29_hace2', 'saldo_medio_var29_hace3', 'saldo_medio_var29_ult1', 'saldo_medio_var29_ult3', 'saldo_medio_var33_hace2', 'saldo_medio_var33_hace3', 'saldo_medio_var33_ult1', 'saldo_medio_var33_ult3', 'saldo_medio_var44_hace2', 'saldo_medio_var44_hace3', 'saldo_medio_var44_ult1', 'saldo_medio_var44_ult3', 'var38', 'TARGET']\n",
            "['ID', 'var3', 'var15', 'imp_ent_var16_ult1', 'imp_op_var39_comer_ult1', 'imp_op_var39_comer_ult3', 'imp_op_var40_comer_ult1', 'imp_op_var40_comer_ult3', 'imp_op_var40_efect_ult1', 'imp_op_var40_efect_ult3', 'imp_op_var40_ult1', 'imp_op_var41_comer_ult1', 'imp_op_var41_comer_ult3', 'imp_op_var41_efect_ult1', 'imp_op_var41_efect_ult3', 'imp_op_var41_ult1', 'imp_op_var39_efect_ult1', 'imp_op_var39_efect_ult3', 'imp_op_var39_ult1', 'imp_sal_var16_ult1', 'ind_var1_0', 'ind_var1', 'ind_var2_0', 'ind_var2', 'ind_var5_0', 'ind_var5', 'ind_var6_0', 'ind_var6', 'ind_var8_0', 'ind_var8', 'ind_var12_0', 'ind_var12', 'ind_var13_0', 'ind_var13_corto_0', 'ind_var13_corto', 'ind_var13_largo_0', 'ind_var13_largo', 'ind_var13_medio_0', 'ind_var13_medio', 'ind_var13', 'ind_var14_0', 'ind_var14', 'ind_var17_0', 'ind_var17', 'ind_var18_0', 'ind_var18', 'ind_var19', 'ind_var20_0', 'ind_var20', 'ind_var24_0', 'ind_var24', 'ind_var25_cte', 'ind_var26_0', 'ind_var26_cte', 'ind_var26', 'ind_var25_0', 'ind_var25', 'ind_var27_0', 'ind_var28_0', 'ind_var28', 'ind_var27', 'ind_var29_0', 'ind_var29', 'ind_var30_0', 'ind_var30', 'ind_var31_0', 'ind_var31', 'ind_var32_cte', 'ind_var32_0', 'ind_var32', 'ind_var33_0', 'ind_var33', 'ind_var34_0', 'ind_var34', 'ind_var37_cte', 'ind_var37_0', 'ind_var37', 'ind_var39_0', 'ind_var40_0', 'ind_var40', 'ind_var41_0', 'ind_var41', 'ind_var39', 'ind_var44_0', 'ind_var44', 'ind_var46_0', 'ind_var46', 'num_var1_0', 'num_var1', 'num_var4', 'num_var5_0', 'num_var5', 'num_var6_0', 'num_var6', 'num_var8_0', 'num_var8', 'num_var12_0', 'num_var12', 'num_var13_0', 'num_var13_corto_0', 'num_var13_corto', 'num_var13_largo_0', 'num_var13_largo', 'num_var13_medio_0', 'num_var13_medio', 'num_var13', 'num_var14_0', 'num_var14', 'num_var17_0', 'num_var17', 'num_var18_0', 'num_var18', 'num_var20_0', 'num_var20', 'num_var24_0', 'num_var24', 'num_var26_0', 'num_var26', 'num_var25_0', 'num_var25', 'num_op_var40_hace2', 'num_op_var40_hace3', 'num_op_var40_ult1', 'num_op_var40_ult3', 'num_op_var41_hace2', 'num_op_var41_hace3', 'num_op_var41_ult1', 'num_op_var41_ult3', 'num_op_var39_hace2', 'num_op_var39_hace3', 'num_op_var39_ult1', 'num_op_var39_ult3', 'num_var27_0', 'num_var28_0', 'num_var28', 'num_var27', 'num_var29_0', 'num_var29', 'num_var30_0', 'num_var30', 'num_var31_0', 'num_var31', 'num_var32_0', 'num_var32', 'num_var33_0', 'num_var33', 'num_var34_0', 'num_var34', 'num_var35', 'num_var37_med_ult2', 'num_var37_0', 'num_var37', 'num_var39_0', 'num_var40_0', 'num_var40', 'num_var41_0', 'num_var41', 'num_var39', 'num_var42_0', 'num_var42', 'num_var44_0', 'num_var44', 'num_var46_0', 'num_var46', 'saldo_var1', 'saldo_var5', 'saldo_var6', 'saldo_var8', 'saldo_var12', 'saldo_var13_corto', 'saldo_var13_largo', 'saldo_var13_medio', 'saldo_var13', 'saldo_var14', 'saldo_var17', 'saldo_var18', 'saldo_var20', 'saldo_var24', 'saldo_var26', 'saldo_var25', 'saldo_var28', 'saldo_var27', 'saldo_var29', 'saldo_var30', 'saldo_var31', 'saldo_var32', 'saldo_var33', 'saldo_var34', 'saldo_var37', 'saldo_var40', 'saldo_var41', 'saldo_var42', 'saldo_var44', 'saldo_var46', 'var36', 'delta_imp_amort_var18_1y3', 'delta_imp_amort_var34_1y3', 'delta_imp_aport_var13_1y3', 'delta_imp_aport_var17_1y3', 'delta_imp_aport_var33_1y3', 'delta_imp_compra_var44_1y3', 'delta_imp_reemb_var13_1y3', 'delta_imp_reemb_var17_1y3', 'delta_imp_reemb_var33_1y3', 'delta_imp_trasp_var17_in_1y3', 'delta_imp_trasp_var17_out_1y3', 'delta_imp_trasp_var33_in_1y3', 'delta_imp_trasp_var33_out_1y3', 'delta_imp_venta_var44_1y3', 'delta_num_aport_var13_1y3', 'delta_num_aport_var17_1y3', 'delta_num_aport_var33_1y3', 'delta_num_compra_var44_1y3', 'delta_num_reemb_var13_1y3', 'delta_num_reemb_var17_1y3', 'delta_num_reemb_var33_1y3', 'delta_num_trasp_var17_in_1y3', 'delta_num_trasp_var17_out_1y3', 'delta_num_trasp_var33_in_1y3', 'delta_num_trasp_var33_out_1y3', 'delta_num_venta_var44_1y3', 'imp_amort_var18_hace3', 'imp_amort_var18_ult1', 'imp_amort_var34_hace3', 'imp_amort_var34_ult1', 'imp_aport_var13_hace3', 'imp_aport_var13_ult1', 'imp_aport_var17_hace3', 'imp_aport_var17_ult1', 'imp_aport_var33_hace3', 'imp_aport_var33_ult1', 'imp_var7_emit_ult1', 'imp_var7_recib_ult1', 'imp_compra_var44_hace3', 'imp_compra_var44_ult1', 'imp_reemb_var13_hace3', 'imp_reemb_var13_ult1', 'imp_reemb_var17_hace3', 'imp_reemb_var17_ult1', 'imp_reemb_var33_hace3', 'imp_reemb_var33_ult1', 'imp_var43_emit_ult1', 'imp_trans_var37_ult1', 'imp_trasp_var17_in_hace3', 'imp_trasp_var17_in_ult1', 'imp_trasp_var17_out_hace3', 'imp_trasp_var17_out_ult1', 'imp_trasp_var33_in_hace3', 'imp_trasp_var33_in_ult1', 'imp_trasp_var33_out_hace3', 'imp_trasp_var33_out_ult1', 'imp_venta_var44_hace3', 'imp_venta_var44_ult1', 'ind_var7_emit_ult1', 'ind_var7_recib_ult1', 'ind_var10_ult1', 'ind_var10cte_ult1', 'ind_var9_cte_ult1', 'ind_var9_ult1', 'ind_var43_emit_ult1', 'ind_var43_recib_ult1', 'var21', 'num_var2_0_ult1', 'num_var2_ult1', 'num_aport_var13_hace3', 'num_aport_var13_ult1', 'num_aport_var17_hace3', 'num_aport_var17_ult1', 'num_aport_var33_hace3', 'num_aport_var33_ult1', 'num_var7_emit_ult1', 'num_var7_recib_ult1', 'num_compra_var44_hace3', 'num_compra_var44_ult1', 'num_ent_var16_ult1', 'num_var22_hace2', 'num_var22_hace3', 'num_var22_ult1', 'num_var22_ult3', 'num_med_var22_ult3', 'num_med_var45_ult3', 'num_meses_var5_ult3', 'num_meses_var8_ult3', 'num_meses_var12_ult3', 'num_meses_var13_corto_ult3', 'num_meses_var13_largo_ult3', 'num_meses_var13_medio_ult3', 'num_meses_var17_ult3', 'num_meses_var29_ult3', 'num_meses_var33_ult3', 'num_meses_var39_vig_ult3', 'num_meses_var44_ult3', 'num_op_var39_comer_ult1', 'num_op_var39_comer_ult3', 'num_op_var40_comer_ult1', 'num_op_var40_comer_ult3', 'num_op_var40_efect_ult1', 'num_op_var40_efect_ult3', 'num_op_var41_comer_ult1', 'num_op_var41_comer_ult3', 'num_op_var41_efect_ult1', 'num_op_var41_efect_ult3', 'num_op_var39_efect_ult1', 'num_op_var39_efect_ult3', 'num_reemb_var13_hace3', 'num_reemb_var13_ult1', 'num_reemb_var17_hace3', 'num_reemb_var17_ult1', 'num_reemb_var33_hace3', 'num_reemb_var33_ult1', 'num_sal_var16_ult1', 'num_var43_emit_ult1', 'num_var43_recib_ult1', 'num_trasp_var11_ult1', 'num_trasp_var17_in_hace3', 'num_trasp_var17_in_ult1', 'num_trasp_var17_out_hace3', 'num_trasp_var17_out_ult1', 'num_trasp_var33_in_hace3', 'num_trasp_var33_in_ult1', 'num_trasp_var33_out_hace3', 'num_trasp_var33_out_ult1', 'num_venta_var44_hace3', 'num_venta_var44_ult1', 'num_var45_hace2', 'num_var45_hace3', 'num_var45_ult1', 'num_var45_ult3', 'saldo_var2_ult1', 'saldo_medio_var5_hace2', 'saldo_medio_var5_hace3', 'saldo_medio_var5_ult1', 'saldo_medio_var5_ult3', 'saldo_medio_var8_hace2', 'saldo_medio_var8_hace3', 'saldo_medio_var8_ult1', 'saldo_medio_var8_ult3', 'saldo_medio_var12_hace2', 'saldo_medio_var12_hace3', 'saldo_medio_var12_ult1', 'saldo_medio_var12_ult3', 'saldo_medio_var13_corto_hace2', 'saldo_medio_var13_corto_hace3', 'saldo_medio_var13_corto_ult1', 'saldo_medio_var13_corto_ult3', 'saldo_medio_var13_largo_hace2', 'saldo_medio_var13_largo_hace3', 'saldo_medio_var13_largo_ult1', 'saldo_medio_var13_largo_ult3', 'saldo_medio_var13_medio_hace2', 'saldo_medio_var13_medio_hace3', 'saldo_medio_var13_medio_ult1', 'saldo_medio_var13_medio_ult3', 'saldo_medio_var17_hace2', 'saldo_medio_var17_hace3', 'saldo_medio_var17_ult1', 'saldo_medio_var17_ult3', 'saldo_medio_var29_hace2', 'saldo_medio_var29_hace3', 'saldo_medio_var29_ult1', 'saldo_medio_var29_ult3', 'saldo_medio_var33_hace2', 'saldo_medio_var33_hace3', 'saldo_medio_var33_ult1', 'saldo_medio_var33_ult3', 'saldo_medio_var44_hace2', 'saldo_medio_var44_hace3', 'saldo_medio_var44_ult1', 'saldo_medio_var44_ult3', 'var38']\n"
          ]
        }
      ]
    },
    {
      "cell_type": "code",
      "source": [
        "#Removing 'Target' column\n",
        "\n",
        "Xtrain = trainData[TrainCols[0:len(TrainCols)-1]].copy()\n",
        "Ytrain = trainData[['TARGET']].copy()\n",
        "print(Xtrain.shape)\n",
        "print(Ytrain.shape)\n",
        "Xtest = testData.copy()"
      ],
      "metadata": {
        "colab": {
          "base_uri": "https://localhost:8080/"
        },
        "id": "yNwgxAmNTLY5",
        "outputId": "05196da0-dfc9-41b1-ede5-392c18393456"
      },
      "execution_count": 7,
      "outputs": [
        {
          "output_type": "stream",
          "name": "stdout",
          "text": [
            "(76020, 370)\n",
            "(76020, 1)\n"
          ]
        }
      ]
    },
    {
      "cell_type": "markdown",
      "source": [
        "Printing the distribution of target class values"
      ],
      "metadata": {
        "id": "r85ZLG6oFBDU"
      }
    },
    {
      "cell_type": "code",
      "source": [
        "trainData[\"TARGET\"].value_counts()"
      ],
      "metadata": {
        "colab": {
          "base_uri": "https://localhost:8080/"
        },
        "id": "W5dRdfKhpSln",
        "outputId": "abfed2c5-350c-49e5-c221-7b40bafc1525"
      },
      "execution_count": 8,
      "outputs": [
        {
          "output_type": "execute_result",
          "data": {
            "text/plain": [
              "0    73012\n",
              "1     3008\n",
              "Name: TARGET, dtype: int64"
            ]
          },
          "metadata": {},
          "execution_count": 8
        }
      ]
    },
    {
      "cell_type": "code",
      "source": [
        "X_train, X_test, Y_train, Y_test = train_test_split(Xtrain, Ytrain, test_size = 0.2 , random_state = 1, stratify = Ytrain)"
      ],
      "metadata": {
        "id": "I37vBBYlWoxn"
      },
      "execution_count": 9,
      "outputs": []
    },
    {
      "cell_type": "code",
      "source": [
        "Y_test.shape"
      ],
      "metadata": {
        "id": "jbVbV2yr7IoE",
        "colab": {
          "base_uri": "https://localhost:8080/"
        },
        "outputId": "40650fad-b673-44f7-d2d9-fba80e295b04"
      },
      "execution_count": 10,
      "outputs": [
        {
          "output_type": "execute_result",
          "data": {
            "text/plain": [
              "(15204, 1)"
            ]
          },
          "metadata": {},
          "execution_count": 10
        }
      ]
    },
    {
      "cell_type": "markdown",
      "source": [
        "To handle the under-representation of the target class, we will perform either:\n",
        "\n",
        "\n",
        "*  Undersampling\n",
        "*  Oversampling\n",
        "\n",
        "\n",
        "\n"
      ],
      "metadata": {
        "id": "ag0he-HCeJQm"
      }
    },
    {
      "cell_type": "code",
      "source": [
        "# instantiating the random undersampler\n",
        "from imblearn.under_sampling import RandomUnderSampler\n",
        "U = RandomUnderSampler(sampling_strategy= 1) \n",
        "# resampling X, y\n",
        "X_u, Y_u = U.fit_resample(X_train, Y_train)\n",
        "# new class distribution\n",
        "X_u.shape"
      ],
      "metadata": {
        "id": "PZYzvIvI73HQ",
        "colab": {
          "base_uri": "https://localhost:8080/"
        },
        "outputId": "a269faec-72a1-49c5-a12d-d644252ab582"
      },
      "execution_count": 11,
      "outputs": [
        {
          "output_type": "execute_result",
          "data": {
            "text/plain": [
              "(4812, 370)"
            ]
          },
          "metadata": {},
          "execution_count": 11
        }
      ]
    },
    {
      "cell_type": "code",
      "source": [
        "Y_u[\"TARGET\"].value_counts()"
      ],
      "metadata": {
        "id": "ASKI1_1ZIpTn",
        "colab": {
          "base_uri": "https://localhost:8080/"
        },
        "outputId": "52c9d3d7-bb73-4cd4-a298-599f9497440f"
      },
      "execution_count": 12,
      "outputs": [
        {
          "output_type": "execute_result",
          "data": {
            "text/plain": [
              "0    2406\n",
              "1    2406\n",
              "Name: TARGET, dtype: int64"
            ]
          },
          "metadata": {},
          "execution_count": 12
        }
      ]
    },
    {
      "cell_type": "code",
      "source": [
        "Y_u.shape"
      ],
      "metadata": {
        "id": "2iqUEx1F73KE",
        "colab": {
          "base_uri": "https://localhost:8080/"
        },
        "outputId": "b2ef70e3-60e9-4c5a-e42a-0a95807c56bb"
      },
      "execution_count": 13,
      "outputs": [
        {
          "output_type": "execute_result",
          "data": {
            "text/plain": [
              "(4812, 1)"
            ]
          },
          "metadata": {},
          "execution_count": 13
        }
      ]
    },
    {
      "cell_type": "code",
      "source": [
        "X_test.shape"
      ],
      "metadata": {
        "id": "BsBvwDKY9cq3",
        "colab": {
          "base_uri": "https://localhost:8080/"
        },
        "outputId": "a4ca8f7a-ef27-4a6a-dcc3-e9fde1bce725"
      },
      "execution_count": 14,
      "outputs": [
        {
          "output_type": "execute_result",
          "data": {
            "text/plain": [
              "(15204, 370)"
            ]
          },
          "metadata": {},
          "execution_count": 14
        }
      ]
    },
    {
      "cell_type": "code",
      "source": [
        "Y_test.shape"
      ],
      "metadata": {
        "id": "7gmXmjK69mRx",
        "colab": {
          "base_uri": "https://localhost:8080/"
        },
        "outputId": "bf0dec46-6dd4-4c25-da44-0602baaea579"
      },
      "execution_count": 15,
      "outputs": [
        {
          "output_type": "execute_result",
          "data": {
            "text/plain": [
              "(15204, 1)"
            ]
          },
          "metadata": {},
          "execution_count": 15
        }
      ]
    },
    {
      "cell_type": "markdown",
      "source": [
        "Creating a decision tree classifier and training it\n",
        "Changes made over a default classifier:\n",
        "\n",
        "\n",
        "*   Splitting criterion changed to \"Entropy\" instead of \"Gini\"\n",
        "*   Max number of leaf nodes changed to 20\n",
        "\n"
      ],
      "metadata": {
        "id": "IhpFQvQBDlbB"
      }
    },
    {
      "cell_type": "code",
      "source": [],
      "metadata": {
        "colab": {
          "base_uri": "https://localhost:8080/"
        },
        "id": "NbvQb4vb3Eyt",
        "outputId": "6a0de3d7-7e26-49b9-b8e5-434c9b681db4"
      },
      "execution_count": null,
      "outputs": [
        {
          "output_type": "stream",
          "name": "stdout",
          "text": [
            "Looking in indexes: https://pypi.org/simple, https://us-python.pkg.dev/colab-wheels/public/simple/\n",
            "Collecting sklearn-genetic\n",
            "  Downloading sklearn_genetic-0.5.1-py3-none-any.whl (11 kB)\n",
            "Requirement already satisfied: numpy in /usr/local/lib/python3.7/dist-packages (from sklearn-genetic) (1.21.6)\n",
            "Collecting deap>=1.0.2\n",
            "  Downloading deap-1.3.3-cp37-cp37m-manylinux_2_5_x86_64.manylinux1_x86_64.manylinux_2_17_x86_64.manylinux2014_x86_64.whl (139 kB)\n",
            "\u001b[K     |████████████████████████████████| 139 kB 26.1 MB/s \n",
            "\u001b[?25hCollecting multiprocess\n",
            "  Downloading multiprocess-0.70.14-py37-none-any.whl (115 kB)\n",
            "\u001b[K     |████████████████████████████████| 115 kB 78.6 MB/s \n",
            "\u001b[?25hRequirement already satisfied: scikit-learn>=0.23 in /usr/local/lib/python3.7/dist-packages (from sklearn-genetic) (1.0.2)\n",
            "Requirement already satisfied: threadpoolctl>=2.0.0 in /usr/local/lib/python3.7/dist-packages (from scikit-learn>=0.23->sklearn-genetic) (3.1.0)\n",
            "Requirement already satisfied: joblib>=0.11 in /usr/local/lib/python3.7/dist-packages (from scikit-learn>=0.23->sklearn-genetic) (1.2.0)\n",
            "Requirement already satisfied: scipy>=1.1.0 in /usr/local/lib/python3.7/dist-packages (from scikit-learn>=0.23->sklearn-genetic) (1.7.3)\n",
            "Requirement already satisfied: dill>=0.3.6 in /usr/local/lib/python3.7/dist-packages (from multiprocess->sklearn-genetic) (0.3.6)\n",
            "Installing collected packages: multiprocess, deap, sklearn-genetic\n",
            "Successfully installed deap-1.3.3 multiprocess-0.70.14 sklearn-genetic-0.5.1\n",
            "Looking in indexes: https://pypi.org/simple, https://us-python.pkg.dev/colab-wheels/public/simple/\n",
            "Collecting sklearn-genetic-opt\n",
            "  Downloading sklearn_genetic_opt-0.9.0-py3-none-any.whl (31 kB)\n",
            "Requirement already satisfied: scikit-learn>=0.21.3 in /usr/local/lib/python3.7/dist-packages (from sklearn-genetic-opt) (1.0.2)\n",
            "Requirement already satisfied: deap>=1.3.1 in /usr/local/lib/python3.7/dist-packages (from sklearn-genetic-opt) (1.3.3)\n",
            "Requirement already satisfied: numpy>=1.14.5 in /usr/local/lib/python3.7/dist-packages (from sklearn-genetic-opt) (1.21.6)\n",
            "Requirement already satisfied: tqdm>=4.61.1 in /usr/local/lib/python3.7/dist-packages (from sklearn-genetic-opt) (4.64.1)\n",
            "Requirement already satisfied: threadpoolctl>=2.0.0 in /usr/local/lib/python3.7/dist-packages (from scikit-learn>=0.21.3->sklearn-genetic-opt) (3.1.0)\n",
            "Requirement already satisfied: joblib>=0.11 in /usr/local/lib/python3.7/dist-packages (from scikit-learn>=0.21.3->sklearn-genetic-opt) (1.2.0)\n",
            "Requirement already satisfied: scipy>=1.1.0 in /usr/local/lib/python3.7/dist-packages (from scikit-learn>=0.21.3->sklearn-genetic-opt) (1.7.3)\n",
            "Installing collected packages: sklearn-genetic-opt\n",
            "Successfully installed sklearn-genetic-opt-0.9.0\n"
          ]
        }
      ]
    },
    {
      "cell_type": "code",
      "source": [
        "import matplotlib.pyplot as plt\n",
        "from sklearn_genetic import GASearchCV\n",
        "from sklearn_genetic.space import Categorical, Integer, Continuous\n",
        "from sklearn.model_selection import train_test_split, StratifiedKFold\n",
        "from sklearn.ensemble import RandomForestClassifier\n",
        "from sklearn.datasets import load_digits\n",
        "from sklearn.metrics import accuracy_score"
      ],
      "metadata": {
        "id": "Xsyg64yR-IZw"
      },
      "execution_count": 16,
      "outputs": []
    },
    {
      "cell_type": "code",
      "source": [
        "#GENETIC ALGORITHM FOR FEATURE SELECTION 25 ===================================================================================\n",
        "#===========================================================================================================================\n",
        "#https://pypi.org/project/sklearn-genetic/\n",
        "\n",
        "from genetic_selection import GeneticSelectionCV\n",
        "\n",
        "x = X_u.iloc[:,:-1].values\n",
        "y = Y_u.iloc[:].values\n",
        "\n",
        "clf = DecisionTreeClassifier()\n",
        "model = GeneticSelectionCV(\n",
        "    clf, cv=5, verbose=0,\n",
        "    scoring=\"accuracy\", max_features=25,\n",
        "    n_population=100, crossover_proba=0.5,\n",
        "    mutation_proba=0.2, n_generations=100,\n",
        "    crossover_independent_proba=0.5,\n",
        "    mutation_independent_proba=0.04,\n",
        "    tournament_size=3, n_gen_no_change=10,\n",
        "    caching=True, n_jobs=-1)\n",
        "model = model.fit(x, y)\n",
        "\n",
        "#Do feature selection using the genetic algo\n",
        "#Get column names\n",
        "print(model.get_support())\n",
        "\n",
        "#Get column names\n",
        "cols = model.get_support(indices=True) #get column indices\n",
        "print(\"\\n cols = \", cols, \"\\n\")\n",
        "\n",
        "features_df_new_ga = X_train.iloc[:,cols] #Get cols of X-Train with col names\n",
        "print(features_df_new_ga.shape)\n",
        "print (\"\\n features_df_new_ga= \", features_df_new_ga)\n",
        "#print(features_df_new.head())\n",
        "\n",
        "GA_25 = cols"
      ],
      "metadata": {
        "colab": {
          "base_uri": "https://localhost:8080/"
        },
        "id": "x7Jdy4AI2IkF",
        "outputId": "d5600339-f5a3-4ae0-ac60-6b1464c3e760"
      },
      "execution_count": null,
      "outputs": [
        {
          "output_type": "stream",
          "name": "stderr",
          "text": [
            "/usr/local/lib/python3.9/dist-packages/sklearn/utils/validation.py:1143: DataConversionWarning: A column-vector y was passed when a 1d array was expected. Please change the shape of y to (n_samples, ), for example using ravel().\n",
            "  y = column_or_1d(y, warn=True)\n"
          ]
        }
      ]
    },
    {
      "cell_type": "code",
      "source": [
        "features_df_new_ga"
      ],
      "metadata": {
        "colab": {
          "base_uri": "https://localhost:8080/",
          "height": 487
        },
        "id": "li8Go_nHSC7E",
        "outputId": "02539722-7451-4083-9390-eea009b451ed"
      },
      "execution_count": null,
      "outputs": [
        {
          "output_type": "execute_result",
          "data": {
            "text/plain": [
              "       var3  var15  imp_op_var41_ult1  ind_var8  ind_var13_corto_0  \\\n",
              "18511     2     28               0.00         0                  0   \n",
              "35536     2     23               0.00         0                  0   \n",
              "70256     2     24               0.00         0                  0   \n",
              "44704     2     42             153.45         0                  0   \n",
              "43542     2     62               0.00         0                  0   \n",
              "...     ...    ...                ...       ...                ...   \n",
              "26903     2     26               0.00         0                  0   \n",
              "3965      2     47               0.00         0                  0   \n",
              "47917     2     35               0.00         0                  0   \n",
              "14037     2     27               0.00         0                  0   \n",
              "4451      2     41               0.00         0                  0   \n",
              "\n",
              "       ind_var13_largo  ind_var13_medio  ind_var13  ind_var20_0  ind_var30_0  \\\n",
              "18511                0                0          0            0            1   \n",
              "35536                0                0          0            0            1   \n",
              "70256                0                0          0            0            1   \n",
              "44704                0                0          0            0            1   \n",
              "43542                0                0          0            0            1   \n",
              "...                ...              ...        ...          ...          ...   \n",
              "26903                0                0          0            0            1   \n",
              "3965                 0                0          0            0            1   \n",
              "47917                0                0          0            0            1   \n",
              "14037                0                0          0            0            1   \n",
              "4451                 0                0          0            0            1   \n",
              "\n",
              "       ...  imp_amort_var34_hace3  num_op_var39_comer_ult1  \\\n",
              "18511  ...                      0                        0   \n",
              "35536  ...                      0                        0   \n",
              "70256  ...                      0                        0   \n",
              "44704  ...                      0                        6   \n",
              "43542  ...                      0                        0   \n",
              "...    ...                    ...                      ...   \n",
              "26903  ...                      0                        0   \n",
              "3965   ...                      0                        0   \n",
              "47917  ...                      0                        0   \n",
              "14037  ...                      0                        0   \n",
              "4451   ...                      0                        0   \n",
              "\n",
              "       num_op_var40_comer_ult1  num_trasp_var33_in_hace3  \\\n",
              "18511                        0                         0   \n",
              "35536                        0                         0   \n",
              "70256                        0                         0   \n",
              "44704                        0                         0   \n",
              "43542                        0                         0   \n",
              "...                        ...                       ...   \n",
              "26903                        0                         0   \n",
              "3965                         0                         0   \n",
              "47917                        0                         0   \n",
              "14037                        0                         0   \n",
              "4451                         0                         0   \n",
              "\n",
              "       saldo_medio_var5_ult1  saldo_medio_var12_ult3  saldo_medio_var29_hace2  \\\n",
              "18511                   0.00                     0.0                      0.0   \n",
              "35536                   0.00                     0.0                      0.0   \n",
              "70256                   3.00                     0.0                      0.0   \n",
              "44704                 928.14                     0.0                      0.0   \n",
              "43542                  15.00                     0.0                      0.0   \n",
              "...                      ...                     ...                      ...   \n",
              "26903                   0.00                     0.0                      0.0   \n",
              "3965                  120.00                     0.0                      0.0   \n",
              "47917                  15.36                     0.0                      0.0   \n",
              "14037                   0.00                     0.0                      0.0   \n",
              "4451                    8.73                     0.0                      0.0   \n",
              "\n",
              "       saldo_medio_var29_ult1  saldo_medio_var33_hace2  \\\n",
              "18511                     0.0                      0.0   \n",
              "35536                     0.0                      0.0   \n",
              "70256                     0.0                      0.0   \n",
              "44704                     0.0                      0.0   \n",
              "43542                     0.0                      0.0   \n",
              "...                       ...                      ...   \n",
              "26903                     0.0                      0.0   \n",
              "3965                      0.0                      0.0   \n",
              "47917                     0.0                      0.0   \n",
              "14037                     0.0                      0.0   \n",
              "4451                      0.0                      0.0   \n",
              "\n",
              "       saldo_medio_var33_hace3  \n",
              "18511                      0.0  \n",
              "35536                      0.0  \n",
              "70256                      0.0  \n",
              "44704                      0.0  \n",
              "43542                      0.0  \n",
              "...                        ...  \n",
              "26903                      0.0  \n",
              "3965                       0.0  \n",
              "47917                      0.0  \n",
              "14037                      0.0  \n",
              "4451                       0.0  \n",
              "\n",
              "[60816 rows x 38 columns]"
            ],
            "text/html": [
              "\n",
              "  <div id=\"df-abe405e5-e950-4a0d-8e94-cf9f905cc243\">\n",
              "    <div class=\"colab-df-container\">\n",
              "      <div>\n",
              "<style scoped>\n",
              "    .dataframe tbody tr th:only-of-type {\n",
              "        vertical-align: middle;\n",
              "    }\n",
              "\n",
              "    .dataframe tbody tr th {\n",
              "        vertical-align: top;\n",
              "    }\n",
              "\n",
              "    .dataframe thead th {\n",
              "        text-align: right;\n",
              "    }\n",
              "</style>\n",
              "<table border=\"1\" class=\"dataframe\">\n",
              "  <thead>\n",
              "    <tr style=\"text-align: right;\">\n",
              "      <th></th>\n",
              "      <th>var3</th>\n",
              "      <th>var15</th>\n",
              "      <th>imp_op_var41_ult1</th>\n",
              "      <th>ind_var8</th>\n",
              "      <th>ind_var13_corto_0</th>\n",
              "      <th>ind_var13_largo</th>\n",
              "      <th>ind_var13_medio</th>\n",
              "      <th>ind_var13</th>\n",
              "      <th>ind_var20_0</th>\n",
              "      <th>ind_var30_0</th>\n",
              "      <th>...</th>\n",
              "      <th>imp_amort_var34_hace3</th>\n",
              "      <th>num_op_var39_comer_ult1</th>\n",
              "      <th>num_op_var40_comer_ult1</th>\n",
              "      <th>num_trasp_var33_in_hace3</th>\n",
              "      <th>saldo_medio_var5_ult1</th>\n",
              "      <th>saldo_medio_var12_ult3</th>\n",
              "      <th>saldo_medio_var29_hace2</th>\n",
              "      <th>saldo_medio_var29_ult1</th>\n",
              "      <th>saldo_medio_var33_hace2</th>\n",
              "      <th>saldo_medio_var33_hace3</th>\n",
              "    </tr>\n",
              "  </thead>\n",
              "  <tbody>\n",
              "    <tr>\n",
              "      <th>18511</th>\n",
              "      <td>2</td>\n",
              "      <td>28</td>\n",
              "      <td>0.00</td>\n",
              "      <td>0</td>\n",
              "      <td>0</td>\n",
              "      <td>0</td>\n",
              "      <td>0</td>\n",
              "      <td>0</td>\n",
              "      <td>0</td>\n",
              "      <td>1</td>\n",
              "      <td>...</td>\n",
              "      <td>0</td>\n",
              "      <td>0</td>\n",
              "      <td>0</td>\n",
              "      <td>0</td>\n",
              "      <td>0.00</td>\n",
              "      <td>0.0</td>\n",
              "      <td>0.0</td>\n",
              "      <td>0.0</td>\n",
              "      <td>0.0</td>\n",
              "      <td>0.0</td>\n",
              "    </tr>\n",
              "    <tr>\n",
              "      <th>35536</th>\n",
              "      <td>2</td>\n",
              "      <td>23</td>\n",
              "      <td>0.00</td>\n",
              "      <td>0</td>\n",
              "      <td>0</td>\n",
              "      <td>0</td>\n",
              "      <td>0</td>\n",
              "      <td>0</td>\n",
              "      <td>0</td>\n",
              "      <td>1</td>\n",
              "      <td>...</td>\n",
              "      <td>0</td>\n",
              "      <td>0</td>\n",
              "      <td>0</td>\n",
              "      <td>0</td>\n",
              "      <td>0.00</td>\n",
              "      <td>0.0</td>\n",
              "      <td>0.0</td>\n",
              "      <td>0.0</td>\n",
              "      <td>0.0</td>\n",
              "      <td>0.0</td>\n",
              "    </tr>\n",
              "    <tr>\n",
              "      <th>70256</th>\n",
              "      <td>2</td>\n",
              "      <td>24</td>\n",
              "      <td>0.00</td>\n",
              "      <td>0</td>\n",
              "      <td>0</td>\n",
              "      <td>0</td>\n",
              "      <td>0</td>\n",
              "      <td>0</td>\n",
              "      <td>0</td>\n",
              "      <td>1</td>\n",
              "      <td>...</td>\n",
              "      <td>0</td>\n",
              "      <td>0</td>\n",
              "      <td>0</td>\n",
              "      <td>0</td>\n",
              "      <td>3.00</td>\n",
              "      <td>0.0</td>\n",
              "      <td>0.0</td>\n",
              "      <td>0.0</td>\n",
              "      <td>0.0</td>\n",
              "      <td>0.0</td>\n",
              "    </tr>\n",
              "    <tr>\n",
              "      <th>44704</th>\n",
              "      <td>2</td>\n",
              "      <td>42</td>\n",
              "      <td>153.45</td>\n",
              "      <td>0</td>\n",
              "      <td>0</td>\n",
              "      <td>0</td>\n",
              "      <td>0</td>\n",
              "      <td>0</td>\n",
              "      <td>0</td>\n",
              "      <td>1</td>\n",
              "      <td>...</td>\n",
              "      <td>0</td>\n",
              "      <td>6</td>\n",
              "      <td>0</td>\n",
              "      <td>0</td>\n",
              "      <td>928.14</td>\n",
              "      <td>0.0</td>\n",
              "      <td>0.0</td>\n",
              "      <td>0.0</td>\n",
              "      <td>0.0</td>\n",
              "      <td>0.0</td>\n",
              "    </tr>\n",
              "    <tr>\n",
              "      <th>43542</th>\n",
              "      <td>2</td>\n",
              "      <td>62</td>\n",
              "      <td>0.00</td>\n",
              "      <td>0</td>\n",
              "      <td>0</td>\n",
              "      <td>0</td>\n",
              "      <td>0</td>\n",
              "      <td>0</td>\n",
              "      <td>0</td>\n",
              "      <td>1</td>\n",
              "      <td>...</td>\n",
              "      <td>0</td>\n",
              "      <td>0</td>\n",
              "      <td>0</td>\n",
              "      <td>0</td>\n",
              "      <td>15.00</td>\n",
              "      <td>0.0</td>\n",
              "      <td>0.0</td>\n",
              "      <td>0.0</td>\n",
              "      <td>0.0</td>\n",
              "      <td>0.0</td>\n",
              "    </tr>\n",
              "    <tr>\n",
              "      <th>...</th>\n",
              "      <td>...</td>\n",
              "      <td>...</td>\n",
              "      <td>...</td>\n",
              "      <td>...</td>\n",
              "      <td>...</td>\n",
              "      <td>...</td>\n",
              "      <td>...</td>\n",
              "      <td>...</td>\n",
              "      <td>...</td>\n",
              "      <td>...</td>\n",
              "      <td>...</td>\n",
              "      <td>...</td>\n",
              "      <td>...</td>\n",
              "      <td>...</td>\n",
              "      <td>...</td>\n",
              "      <td>...</td>\n",
              "      <td>...</td>\n",
              "      <td>...</td>\n",
              "      <td>...</td>\n",
              "      <td>...</td>\n",
              "      <td>...</td>\n",
              "    </tr>\n",
              "    <tr>\n",
              "      <th>26903</th>\n",
              "      <td>2</td>\n",
              "      <td>26</td>\n",
              "      <td>0.00</td>\n",
              "      <td>0</td>\n",
              "      <td>0</td>\n",
              "      <td>0</td>\n",
              "      <td>0</td>\n",
              "      <td>0</td>\n",
              "      <td>0</td>\n",
              "      <td>1</td>\n",
              "      <td>...</td>\n",
              "      <td>0</td>\n",
              "      <td>0</td>\n",
              "      <td>0</td>\n",
              "      <td>0</td>\n",
              "      <td>0.00</td>\n",
              "      <td>0.0</td>\n",
              "      <td>0.0</td>\n",
              "      <td>0.0</td>\n",
              "      <td>0.0</td>\n",
              "      <td>0.0</td>\n",
              "    </tr>\n",
              "    <tr>\n",
              "      <th>3965</th>\n",
              "      <td>2</td>\n",
              "      <td>47</td>\n",
              "      <td>0.00</td>\n",
              "      <td>0</td>\n",
              "      <td>0</td>\n",
              "      <td>0</td>\n",
              "      <td>0</td>\n",
              "      <td>0</td>\n",
              "      <td>0</td>\n",
              "      <td>1</td>\n",
              "      <td>...</td>\n",
              "      <td>0</td>\n",
              "      <td>0</td>\n",
              "      <td>0</td>\n",
              "      <td>0</td>\n",
              "      <td>120.00</td>\n",
              "      <td>0.0</td>\n",
              "      <td>0.0</td>\n",
              "      <td>0.0</td>\n",
              "      <td>0.0</td>\n",
              "      <td>0.0</td>\n",
              "    </tr>\n",
              "    <tr>\n",
              "      <th>47917</th>\n",
              "      <td>2</td>\n",
              "      <td>35</td>\n",
              "      <td>0.00</td>\n",
              "      <td>0</td>\n",
              "      <td>0</td>\n",
              "      <td>0</td>\n",
              "      <td>0</td>\n",
              "      <td>0</td>\n",
              "      <td>0</td>\n",
              "      <td>1</td>\n",
              "      <td>...</td>\n",
              "      <td>0</td>\n",
              "      <td>0</td>\n",
              "      <td>0</td>\n",
              "      <td>0</td>\n",
              "      <td>15.36</td>\n",
              "      <td>0.0</td>\n",
              "      <td>0.0</td>\n",
              "      <td>0.0</td>\n",
              "      <td>0.0</td>\n",
              "      <td>0.0</td>\n",
              "    </tr>\n",
              "    <tr>\n",
              "      <th>14037</th>\n",
              "      <td>2</td>\n",
              "      <td>27</td>\n",
              "      <td>0.00</td>\n",
              "      <td>0</td>\n",
              "      <td>0</td>\n",
              "      <td>0</td>\n",
              "      <td>0</td>\n",
              "      <td>0</td>\n",
              "      <td>0</td>\n",
              "      <td>1</td>\n",
              "      <td>...</td>\n",
              "      <td>0</td>\n",
              "      <td>0</td>\n",
              "      <td>0</td>\n",
              "      <td>0</td>\n",
              "      <td>0.00</td>\n",
              "      <td>0.0</td>\n",
              "      <td>0.0</td>\n",
              "      <td>0.0</td>\n",
              "      <td>0.0</td>\n",
              "      <td>0.0</td>\n",
              "    </tr>\n",
              "    <tr>\n",
              "      <th>4451</th>\n",
              "      <td>2</td>\n",
              "      <td>41</td>\n",
              "      <td>0.00</td>\n",
              "      <td>0</td>\n",
              "      <td>0</td>\n",
              "      <td>0</td>\n",
              "      <td>0</td>\n",
              "      <td>0</td>\n",
              "      <td>0</td>\n",
              "      <td>1</td>\n",
              "      <td>...</td>\n",
              "      <td>0</td>\n",
              "      <td>0</td>\n",
              "      <td>0</td>\n",
              "      <td>0</td>\n",
              "      <td>8.73</td>\n",
              "      <td>0.0</td>\n",
              "      <td>0.0</td>\n",
              "      <td>0.0</td>\n",
              "      <td>0.0</td>\n",
              "      <td>0.0</td>\n",
              "    </tr>\n",
              "  </tbody>\n",
              "</table>\n",
              "<p>60816 rows × 38 columns</p>\n",
              "</div>\n",
              "      <button class=\"colab-df-convert\" onclick=\"convertToInteractive('df-abe405e5-e950-4a0d-8e94-cf9f905cc243')\"\n",
              "              title=\"Convert this dataframe to an interactive table.\"\n",
              "              style=\"display:none;\">\n",
              "        \n",
              "  <svg xmlns=\"http://www.w3.org/2000/svg\" height=\"24px\"viewBox=\"0 0 24 24\"\n",
              "       width=\"24px\">\n",
              "    <path d=\"M0 0h24v24H0V0z\" fill=\"none\"/>\n",
              "    <path d=\"M18.56 5.44l.94 2.06.94-2.06 2.06-.94-2.06-.94-.94-2.06-.94 2.06-2.06.94zm-11 1L8.5 8.5l.94-2.06 2.06-.94-2.06-.94L8.5 2.5l-.94 2.06-2.06.94zm10 10l.94 2.06.94-2.06 2.06-.94-2.06-.94-.94-2.06-.94 2.06-2.06.94z\"/><path d=\"M17.41 7.96l-1.37-1.37c-.4-.4-.92-.59-1.43-.59-.52 0-1.04.2-1.43.59L10.3 9.45l-7.72 7.72c-.78.78-.78 2.05 0 2.83L4 21.41c.39.39.9.59 1.41.59.51 0 1.02-.2 1.41-.59l7.78-7.78 2.81-2.81c.8-.78.8-2.07 0-2.86zM5.41 20L4 18.59l7.72-7.72 1.47 1.35L5.41 20z\"/>\n",
              "  </svg>\n",
              "      </button>\n",
              "      \n",
              "  <style>\n",
              "    .colab-df-container {\n",
              "      display:flex;\n",
              "      flex-wrap:wrap;\n",
              "      gap: 12px;\n",
              "    }\n",
              "\n",
              "    .colab-df-convert {\n",
              "      background-color: #E8F0FE;\n",
              "      border: none;\n",
              "      border-radius: 50%;\n",
              "      cursor: pointer;\n",
              "      display: none;\n",
              "      fill: #1967D2;\n",
              "      height: 32px;\n",
              "      padding: 0 0 0 0;\n",
              "      width: 32px;\n",
              "    }\n",
              "\n",
              "    .colab-df-convert:hover {\n",
              "      background-color: #E2EBFA;\n",
              "      box-shadow: 0px 1px 2px rgba(60, 64, 67, 0.3), 0px 1px 3px 1px rgba(60, 64, 67, 0.15);\n",
              "      fill: #174EA6;\n",
              "    }\n",
              "\n",
              "    [theme=dark] .colab-df-convert {\n",
              "      background-color: #3B4455;\n",
              "      fill: #D2E3FC;\n",
              "    }\n",
              "\n",
              "    [theme=dark] .colab-df-convert:hover {\n",
              "      background-color: #434B5C;\n",
              "      box-shadow: 0px 1px 3px 1px rgba(0, 0, 0, 0.15);\n",
              "      filter: drop-shadow(0px 1px 2px rgba(0, 0, 0, 0.3));\n",
              "      fill: #FFFFFF;\n",
              "    }\n",
              "  </style>\n",
              "\n",
              "      <script>\n",
              "        const buttonEl =\n",
              "          document.querySelector('#df-abe405e5-e950-4a0d-8e94-cf9f905cc243 button.colab-df-convert');\n",
              "        buttonEl.style.display =\n",
              "          google.colab.kernel.accessAllowed ? 'block' : 'none';\n",
              "\n",
              "        async function convertToInteractive(key) {\n",
              "          const element = document.querySelector('#df-abe405e5-e950-4a0d-8e94-cf9f905cc243');\n",
              "          const dataTable =\n",
              "            await google.colab.kernel.invokeFunction('convertToInteractive',\n",
              "                                                     [key], {});\n",
              "          if (!dataTable) return;\n",
              "\n",
              "          const docLinkHtml = 'Like what you see? Visit the ' +\n",
              "            '<a target=\"_blank\" href=https://colab.research.google.com/notebooks/data_table.ipynb>data table notebook</a>'\n",
              "            + ' to learn more about interactive tables.';\n",
              "          element.innerHTML = '';\n",
              "          dataTable['output_type'] = 'display_data';\n",
              "          await google.colab.output.renderOutput(dataTable, element);\n",
              "          const docLink = document.createElement('div');\n",
              "          docLink.innerHTML = docLinkHtml;\n",
              "          element.appendChild(docLink);\n",
              "        }\n",
              "      </script>\n",
              "    </div>\n",
              "  </div>\n",
              "  "
            ]
          },
          "metadata": {},
          "execution_count": 67
        }
      ]
    },
    {
      "cell_type": "code",
      "source": [
        "#GENETIC ALGORITHM FOR FEATURE SELECTION 50 ===================================================================================\n",
        "#===========================================================================================================================\n",
        "#https://pypi.org/project/sklearn-genetic/\n",
        "\n",
        "from genetic_selection import GeneticSelectionCV\n",
        "\n",
        "x = X_u.iloc[:,:-1].values\n",
        "y = Y_u.iloc[:].values\n",
        "\n",
        "clf = DecisionTreeClassifier()\n",
        "model = GeneticSelectionCV(\n",
        "    clf, cv=5, verbose=0,\n",
        "    scoring=\"accuracy\", max_features=50,\n",
        "    n_population=100, crossover_proba=0.5,\n",
        "    mutation_proba=0.2, n_generations=100,\n",
        "    crossover_independent_proba=0.5,\n",
        "    mutation_independent_proba=0.04,\n",
        "    tournament_size=3, n_gen_no_change=10,\n",
        "    caching=True, n_jobs=-1)\n",
        "model = model.fit(x, y)\n",
        "\n",
        "#Do feature selection using the genetic algo\n",
        "#Get column names\n",
        "print(model.get_support())\n",
        "\n",
        "#Get column names\n",
        "cols = model.get_support(indices=True) #get column indices\n",
        "print(\"\\n cols = \", cols, \"\\n\")\n",
        "\n",
        "features_df_new_ga = X_train.iloc[:,cols] #Get cols of X-Train with col names\n",
        "print(features_df_new_ga.shape)\n",
        "print (\"\\n features_df_new_ga= \", features_df_new_ga)\n",
        "#print(features_df_new.head())\n",
        "GA_50 = cols"
      ],
      "metadata": {
        "colab": {
          "base_uri": "https://localhost:8080/"
        },
        "id": "z5qL2pzB4NkT",
        "outputId": "bb7abb3d-e9c5-47f7-90b8-3d829386b221"
      },
      "execution_count": null,
      "outputs": [
        {
          "output_type": "stream",
          "name": "stderr",
          "text": [
            "/usr/local/lib/python3.7/dist-packages/sklearn/utils/validation.py:993: DataConversionWarning: A column-vector y was passed when a 1d array was expected. Please change the shape of y to (n_samples, ), for example using ravel().\n",
            "  y = column_or_1d(y, warn=True)\n"
          ]
        },
        {
          "output_type": "stream",
          "name": "stdout",
          "text": [
            "[False  True  True False False False False False False False False False\n",
            " False False False  True False False False False False False False False\n",
            " False False False False False  True False False False  True False False\n",
            "  True False  True  True False False False False False False False  True\n",
            " False False False False False False False False False False False False\n",
            " False False False  True False False False  True False False False False\n",
            " False False False False False False False False  True False False False\n",
            "  True False False False False False  True False False False False False\n",
            " False False False False False False False False False  True False False\n",
            " False False  True False False False False False  True False False False\n",
            " False False False False False False  True False False False False False\n",
            " False False False False False False False False False False False False\n",
            " False False False False False False False False False False False  True\n",
            " False False False False False False False False  True False False False\n",
            " False False False False False False False False False False False False\n",
            "  True False False False False False False False  True  True False  True\n",
            " False False False False False False  True False False False False False\n",
            " False False False False False False  True False  True False False False\n",
            " False False False False  True False False  True False False False False\n",
            " False False False False False False False False False False False False\n",
            " False False False False False False False False False False False False\n",
            " False False False False False False False False False False False False\n",
            " False False False False False False False False False False False False\n",
            " False False False False False False False False False False False False\n",
            " False False False False  True False  True False False False False False\n",
            " False False False False False False False False False False False False\n",
            " False False False False False False  True False False False False False\n",
            " False False False False False False False  True False False False False\n",
            " False False False False  True False False False False False False False\n",
            " False False False False False False False False False  True False  True\n",
            " False  True  True False False False False False False]\n",
            "\n",
            " cols =  [  1   2  15  29  33  36  38  39  47  63  67  80  84  90 105 110 116 126\n",
            " 155 164 180 188 189 191 198 210 212 220 223 292 294 318 331 340 357 359\n",
            " 361 362] \n",
            "\n",
            "(60816, 38)\n",
            "\n",
            " features_df_new_ga=         var3  var15  imp_op_var41_ult1  ind_var8  ind_var13_corto_0  \\\n",
            "18511     2     28               0.00         0                  0   \n",
            "35536     2     23               0.00         0                  0   \n",
            "70256     2     24               0.00         0                  0   \n",
            "44704     2     42             153.45         0                  0   \n",
            "43542     2     62               0.00         0                  0   \n",
            "...     ...    ...                ...       ...                ...   \n",
            "26903     2     26               0.00         0                  0   \n",
            "3965      2     47               0.00         0                  0   \n",
            "47917     2     35               0.00         0                  0   \n",
            "14037     2     27               0.00         0                  0   \n",
            "4451      2     41               0.00         0                  0   \n",
            "\n",
            "       ind_var13_largo  ind_var13_medio  ind_var13  ind_var20_0  ind_var30_0  \\\n",
            "18511                0                0          0            0            1   \n",
            "35536                0                0          0            0            1   \n",
            "70256                0                0          0            0            1   \n",
            "44704                0                0          0            0            1   \n",
            "43542                0                0          0            0            1   \n",
            "...                ...              ...        ...          ...          ...   \n",
            "26903                0                0          0            0            1   \n",
            "3965                 0                0          0            0            1   \n",
            "47917                0                0          0            0            1   \n",
            "14037                0                0          0            0            1   \n",
            "4451                 0                0          0            0            1   \n",
            "\n",
            "       ...  imp_amort_var34_hace3  num_op_var39_comer_ult1  \\\n",
            "18511  ...                      0                        0   \n",
            "35536  ...                      0                        0   \n",
            "70256  ...                      0                        0   \n",
            "44704  ...                      0                        6   \n",
            "43542  ...                      0                        0   \n",
            "...    ...                    ...                      ...   \n",
            "26903  ...                      0                        0   \n",
            "3965   ...                      0                        0   \n",
            "47917  ...                      0                        0   \n",
            "14037  ...                      0                        0   \n",
            "4451   ...                      0                        0   \n",
            "\n",
            "       num_op_var40_comer_ult1  num_trasp_var33_in_hace3  \\\n",
            "18511                        0                         0   \n",
            "35536                        0                         0   \n",
            "70256                        0                         0   \n",
            "44704                        0                         0   \n",
            "43542                        0                         0   \n",
            "...                        ...                       ...   \n",
            "26903                        0                         0   \n",
            "3965                         0                         0   \n",
            "47917                        0                         0   \n",
            "14037                        0                         0   \n",
            "4451                         0                         0   \n",
            "\n",
            "       saldo_medio_var5_ult1  saldo_medio_var12_ult3  saldo_medio_var29_hace2  \\\n",
            "18511                   0.00                     0.0                      0.0   \n",
            "35536                   0.00                     0.0                      0.0   \n",
            "70256                   3.00                     0.0                      0.0   \n",
            "44704                 928.14                     0.0                      0.0   \n",
            "43542                  15.00                     0.0                      0.0   \n",
            "...                      ...                     ...                      ...   \n",
            "26903                   0.00                     0.0                      0.0   \n",
            "3965                  120.00                     0.0                      0.0   \n",
            "47917                  15.36                     0.0                      0.0   \n",
            "14037                   0.00                     0.0                      0.0   \n",
            "4451                    8.73                     0.0                      0.0   \n",
            "\n",
            "       saldo_medio_var29_ult1  saldo_medio_var33_hace2  \\\n",
            "18511                     0.0                      0.0   \n",
            "35536                     0.0                      0.0   \n",
            "70256                     0.0                      0.0   \n",
            "44704                     0.0                      0.0   \n",
            "43542                     0.0                      0.0   \n",
            "...                       ...                      ...   \n",
            "26903                     0.0                      0.0   \n",
            "3965                      0.0                      0.0   \n",
            "47917                     0.0                      0.0   \n",
            "14037                     0.0                      0.0   \n",
            "4451                      0.0                      0.0   \n",
            "\n",
            "       saldo_medio_var33_hace3  \n",
            "18511                      0.0  \n",
            "35536                      0.0  \n",
            "70256                      0.0  \n",
            "44704                      0.0  \n",
            "43542                      0.0  \n",
            "...                        ...  \n",
            "26903                      0.0  \n",
            "3965                       0.0  \n",
            "47917                      0.0  \n",
            "14037                      0.0  \n",
            "4451                       0.0  \n",
            "\n",
            "[60816 rows x 38 columns]\n"
          ]
        }
      ]
    },
    {
      "cell_type": "code",
      "source": [
        "\n",
        "#K-BEST FEATURE Selection =================================================================================\n",
        "#====================================================================================================\n",
        "#Feature Selection\n",
        "fs = SelectKBest(f_classif, k=25)\n",
        "#fs = SelectKBest(chi2, k=10)\n",
        "fs.fit(X_u, Y_u)\n",
        "SelectKBest_25 = fs.get_support(True)\n",
        "print (\"25 Important Features\", SelectKBest_25)\n",
        "\n",
        "\n",
        "#f_value, p_value = f_classif(X_train, y_train)\n",
        "#print (feature_index.tolist(), f_value, p_value) "
      ],
      "metadata": {
        "colab": {
          "base_uri": "https://localhost:8080/"
        },
        "id": "PLqojlkN2Xho",
        "outputId": "a8cdc9ae-d25e-4636-b7b7-b14ff255407f"
      },
      "execution_count": null,
      "outputs": [
        {
          "output_type": "stream",
          "name": "stdout",
          "text": [
            "25 Important Features [  2  25  30  31  32  33  34  39  64  89  91  97  98  99 100 105 139 148\n",
            " 159 172 183 194 281 284 369]\n"
          ]
        },
        {
          "output_type": "stream",
          "name": "stderr",
          "text": [
            "/usr/local/lib/python3.7/dist-packages/sklearn/utils/validation.py:993: DataConversionWarning: A column-vector y was passed when a 1d array was expected. Please change the shape of y to (n_samples, ), for example using ravel().\n",
            "  y = column_or_1d(y, warn=True)\n",
            "/usr/local/lib/python3.7/dist-packages/sklearn/feature_selection/_univariate_selection.py:112: UserWarning: Features [ 22  23  26  27  37  38  44  45  57  58  59  60  61  62  81  85  86  92\n",
            "  93 103 104 110 111 132 133 134 135 136 137 156 162 163 166 171 175 180\n",
            " 181 182 190 193 195 201 202 203 204 205 206 207 213 214 215 216 217 218\n",
            " 219 221 222 223 227 230 231 235 236 237 238 239 240 243 244 245 246 247\n",
            " 248 249 250 251 253 262 263 266 269 270 286 288 304 305 306 307 308 309\n",
            " 314 315 316 317 318 319 320 321 322 328 349 350 351 352 354 357 358 359\n",
            " 360] are constant.\n",
            "  warnings.warn(\"Features %s are constant.\" % constant_features_idx, UserWarning)\n",
            "/usr/local/lib/python3.7/dist-packages/sklearn/feature_selection/_univariate_selection.py:113: RuntimeWarning: invalid value encountered in true_divide\n",
            "  f = msb / msw\n"
          ]
        }
      ]
    },
    {
      "cell_type": "code",
      "source": [
        "\n",
        "#K-BEST FEATURE Selection of 50 features=================================================================================\n",
        "#====================================================================================================\n",
        "#Feature Selection\n",
        "fs = SelectKBest(f_classif, k=50)\n",
        "#fs = SelectKBest(chi2, k=10)\n",
        "fs.fit(X_u, Y_u)\n",
        "SelectKBest_50 = fs.get_support(True)\n",
        "print (\"50 Important Features\", SelectKBest_50)\n",
        "\n",
        "#f_value, p_value = f_classif(X_train, y_train)\n",
        "#print (feature_index.tolist(), f_value, p_value) "
      ],
      "metadata": {
        "colab": {
          "base_uri": "https://localhost:8080/"
        },
        "id": "s5kKvBFU4-wc",
        "outputId": "8d7d9cf6-0086-4327-fea5-89714daad3c0"
      },
      "execution_count": null,
      "outputs": [
        {
          "output_type": "stream",
          "name": "stdout",
          "text": [
            "50 Important Features [  2  13  16  25  28  30  31  32  33  34  35  36  39  49  50  64  89  91\n",
            "  94  97  98  99 100 105 114 115 139 148 159 168 169 172 177 183 191 194\n",
            " 225 264 281 283 284 329 330 332 339 340 341 343 344 369]\n"
          ]
        },
        {
          "output_type": "stream",
          "name": "stderr",
          "text": [
            "/usr/local/lib/python3.7/dist-packages/sklearn/utils/validation.py:993: DataConversionWarning: A column-vector y was passed when a 1d array was expected. Please change the shape of y to (n_samples, ), for example using ravel().\n",
            "  y = column_or_1d(y, warn=True)\n",
            "/usr/local/lib/python3.7/dist-packages/sklearn/feature_selection/_univariate_selection.py:112: UserWarning: Features [ 22  23  26  27  37  38  44  45  57  58  59  60  61  62  81  85  86  92\n",
            "  93 103 104 110 111 132 133 134 135 136 137 156 162 163 166 171 175 180\n",
            " 181 182 190 193 195 201 202 203 204 205 206 207 213 214 215 216 217 218\n",
            " 219 221 222 223 227 230 231 235 236 237 238 239 240 243 244 245 246 247\n",
            " 248 249 250 251 253 262 263 266 269 270 286 288 304 305 306 307 308 309\n",
            " 314 315 316 317 318 319 320 321 322 328 349 350 351 352 354 357 358 359\n",
            " 360] are constant.\n",
            "  warnings.warn(\"Features %s are constant.\" % constant_features_idx, UserWarning)\n",
            "/usr/local/lib/python3.7/dist-packages/sklearn/feature_selection/_univariate_selection.py:113: RuntimeWarning: invalid value encountered in true_divide\n",
            "  f = msb / msw\n"
          ]
        }
      ]
    },
    {
      "cell_type": "code",
      "source": [
        "common_features_25 = []\n",
        "common_features_50 = []\n",
        "for i in SelectKBest_25:\n",
        "  if i in GA_25:\n",
        "    common_features_25.append(i)\n",
        "for i in SelectKBest_50:\n",
        "  if i in GA_50:\n",
        "    common_features_50.append(i)\n",
        "print(common_features_25, \"\\n\", common_features_50)\n"
      ],
      "metadata": {
        "colab": {
          "base_uri": "https://localhost:8080/"
        },
        "id": "Lt2oYVcE6GHW",
        "outputId": "665912b9-6f04-4ca3-d6cc-41e9d2724d27"
      },
      "execution_count": null,
      "outputs": [
        {
          "output_type": "stream",
          "name": "stdout",
          "text": [
            "[2, 30] \n",
            " [2, 33, 36, 39, 105, 191, 340]\n"
          ]
        }
      ]
    },
    {
      "cell_type": "code",
      "source": [
        "# Getting only common columns\n",
        "X_rus_common25 = X_u.iloc[:,[2,91,139]]\n",
        "X_rus_common50 = X_u.iloc[:, [2, 13, 16, 18, 32, 99, 105, 183, 191, 194]]\n"
      ],
      "metadata": {
        "id": "3l0wN8Cq_Baw"
      },
      "execution_count": null,
      "outputs": []
    },
    {
      "cell_type": "code",
      "source": [
        "X_rus_common25 = X_u.iloc[:, common_features_25]\n",
        "X_rus_common50 = X_u.iloc[:, common_features_50]\n",
        "X_test25 = X_test.iloc[:,common_features_25]\n",
        "X_test50 = X_test.iloc[:,common_features_50]"
      ],
      "metadata": {
        "id": "1EEP4xcfr6qE"
      },
      "execution_count": null,
      "outputs": []
    },
    {
      "cell_type": "code",
      "source": [
        "X_rus_common50"
      ],
      "metadata": {
        "colab": {
          "base_uri": "https://localhost:8080/",
          "height": 423
        },
        "id": "EOPngVvw__Cg",
        "outputId": "59e795c6-0977-4921-c722-b04edd05ba75"
      },
      "execution_count": null,
      "outputs": [
        {
          "output_type": "execute_result",
          "data": {
            "text/plain": [
              "      var15  ind_var13_corto_0  ind_var13_largo  ind_var13  num_var13  \\\n",
              "0        23                  0                0          0          0   \n",
              "1        24                  0                0          0          0   \n",
              "2        24                  0                0          0          0   \n",
              "3        23                  0                0          0          0   \n",
              "4        26                  0                0          0          0   \n",
              "...     ...                ...              ...        ...        ...   \n",
              "4807     35                  0                0          0          0   \n",
              "4808     24                  0                0          0          0   \n",
              "4809     38                  0                0          0          0   \n",
              "4810     47                  0                0          0          0   \n",
              "4811     23                  0                0          0          0   \n",
              "\n",
              "      saldo_var42  saldo_medio_var12_ult3  \n",
              "0            0.00                     0.0  \n",
              "1            0.00                     0.0  \n",
              "2            3.00                     0.0  \n",
              "3            3.00                     0.0  \n",
              "4           15.00                     0.0  \n",
              "...           ...                     ...  \n",
              "4807        63.00                     0.0  \n",
              "4808       150.00                     0.0  \n",
              "4809         0.00                     0.0  \n",
              "4810      1137.69                     0.0  \n",
              "4811         0.00                     0.0  \n",
              "\n",
              "[4812 rows x 7 columns]"
            ],
            "text/html": [
              "\n",
              "  <div id=\"df-01451ffe-7ede-48e1-887d-c841178ddf21\">\n",
              "    <div class=\"colab-df-container\">\n",
              "      <div>\n",
              "<style scoped>\n",
              "    .dataframe tbody tr th:only-of-type {\n",
              "        vertical-align: middle;\n",
              "    }\n",
              "\n",
              "    .dataframe tbody tr th {\n",
              "        vertical-align: top;\n",
              "    }\n",
              "\n",
              "    .dataframe thead th {\n",
              "        text-align: right;\n",
              "    }\n",
              "</style>\n",
              "<table border=\"1\" class=\"dataframe\">\n",
              "  <thead>\n",
              "    <tr style=\"text-align: right;\">\n",
              "      <th></th>\n",
              "      <th>var15</th>\n",
              "      <th>ind_var13_corto_0</th>\n",
              "      <th>ind_var13_largo</th>\n",
              "      <th>ind_var13</th>\n",
              "      <th>num_var13</th>\n",
              "      <th>saldo_var42</th>\n",
              "      <th>saldo_medio_var12_ult3</th>\n",
              "    </tr>\n",
              "  </thead>\n",
              "  <tbody>\n",
              "    <tr>\n",
              "      <th>0</th>\n",
              "      <td>23</td>\n",
              "      <td>0</td>\n",
              "      <td>0</td>\n",
              "      <td>0</td>\n",
              "      <td>0</td>\n",
              "      <td>0.00</td>\n",
              "      <td>0.0</td>\n",
              "    </tr>\n",
              "    <tr>\n",
              "      <th>1</th>\n",
              "      <td>24</td>\n",
              "      <td>0</td>\n",
              "      <td>0</td>\n",
              "      <td>0</td>\n",
              "      <td>0</td>\n",
              "      <td>0.00</td>\n",
              "      <td>0.0</td>\n",
              "    </tr>\n",
              "    <tr>\n",
              "      <th>2</th>\n",
              "      <td>24</td>\n",
              "      <td>0</td>\n",
              "      <td>0</td>\n",
              "      <td>0</td>\n",
              "      <td>0</td>\n",
              "      <td>3.00</td>\n",
              "      <td>0.0</td>\n",
              "    </tr>\n",
              "    <tr>\n",
              "      <th>3</th>\n",
              "      <td>23</td>\n",
              "      <td>0</td>\n",
              "      <td>0</td>\n",
              "      <td>0</td>\n",
              "      <td>0</td>\n",
              "      <td>3.00</td>\n",
              "      <td>0.0</td>\n",
              "    </tr>\n",
              "    <tr>\n",
              "      <th>4</th>\n",
              "      <td>26</td>\n",
              "      <td>0</td>\n",
              "      <td>0</td>\n",
              "      <td>0</td>\n",
              "      <td>0</td>\n",
              "      <td>15.00</td>\n",
              "      <td>0.0</td>\n",
              "    </tr>\n",
              "    <tr>\n",
              "      <th>...</th>\n",
              "      <td>...</td>\n",
              "      <td>...</td>\n",
              "      <td>...</td>\n",
              "      <td>...</td>\n",
              "      <td>...</td>\n",
              "      <td>...</td>\n",
              "      <td>...</td>\n",
              "    </tr>\n",
              "    <tr>\n",
              "      <th>4807</th>\n",
              "      <td>35</td>\n",
              "      <td>0</td>\n",
              "      <td>0</td>\n",
              "      <td>0</td>\n",
              "      <td>0</td>\n",
              "      <td>63.00</td>\n",
              "      <td>0.0</td>\n",
              "    </tr>\n",
              "    <tr>\n",
              "      <th>4808</th>\n",
              "      <td>24</td>\n",
              "      <td>0</td>\n",
              "      <td>0</td>\n",
              "      <td>0</td>\n",
              "      <td>0</td>\n",
              "      <td>150.00</td>\n",
              "      <td>0.0</td>\n",
              "    </tr>\n",
              "    <tr>\n",
              "      <th>4809</th>\n",
              "      <td>38</td>\n",
              "      <td>0</td>\n",
              "      <td>0</td>\n",
              "      <td>0</td>\n",
              "      <td>0</td>\n",
              "      <td>0.00</td>\n",
              "      <td>0.0</td>\n",
              "    </tr>\n",
              "    <tr>\n",
              "      <th>4810</th>\n",
              "      <td>47</td>\n",
              "      <td>0</td>\n",
              "      <td>0</td>\n",
              "      <td>0</td>\n",
              "      <td>0</td>\n",
              "      <td>1137.69</td>\n",
              "      <td>0.0</td>\n",
              "    </tr>\n",
              "    <tr>\n",
              "      <th>4811</th>\n",
              "      <td>23</td>\n",
              "      <td>0</td>\n",
              "      <td>0</td>\n",
              "      <td>0</td>\n",
              "      <td>0</td>\n",
              "      <td>0.00</td>\n",
              "      <td>0.0</td>\n",
              "    </tr>\n",
              "  </tbody>\n",
              "</table>\n",
              "<p>4812 rows × 7 columns</p>\n",
              "</div>\n",
              "      <button class=\"colab-df-convert\" onclick=\"convertToInteractive('df-01451ffe-7ede-48e1-887d-c841178ddf21')\"\n",
              "              title=\"Convert this dataframe to an interactive table.\"\n",
              "              style=\"display:none;\">\n",
              "        \n",
              "  <svg xmlns=\"http://www.w3.org/2000/svg\" height=\"24px\"viewBox=\"0 0 24 24\"\n",
              "       width=\"24px\">\n",
              "    <path d=\"M0 0h24v24H0V0z\" fill=\"none\"/>\n",
              "    <path d=\"M18.56 5.44l.94 2.06.94-2.06 2.06-.94-2.06-.94-.94-2.06-.94 2.06-2.06.94zm-11 1L8.5 8.5l.94-2.06 2.06-.94-2.06-.94L8.5 2.5l-.94 2.06-2.06.94zm10 10l.94 2.06.94-2.06 2.06-.94-2.06-.94-.94-2.06-.94 2.06-2.06.94z\"/><path d=\"M17.41 7.96l-1.37-1.37c-.4-.4-.92-.59-1.43-.59-.52 0-1.04.2-1.43.59L10.3 9.45l-7.72 7.72c-.78.78-.78 2.05 0 2.83L4 21.41c.39.39.9.59 1.41.59.51 0 1.02-.2 1.41-.59l7.78-7.78 2.81-2.81c.8-.78.8-2.07 0-2.86zM5.41 20L4 18.59l7.72-7.72 1.47 1.35L5.41 20z\"/>\n",
              "  </svg>\n",
              "      </button>\n",
              "      \n",
              "  <style>\n",
              "    .colab-df-container {\n",
              "      display:flex;\n",
              "      flex-wrap:wrap;\n",
              "      gap: 12px;\n",
              "    }\n",
              "\n",
              "    .colab-df-convert {\n",
              "      background-color: #E8F0FE;\n",
              "      border: none;\n",
              "      border-radius: 50%;\n",
              "      cursor: pointer;\n",
              "      display: none;\n",
              "      fill: #1967D2;\n",
              "      height: 32px;\n",
              "      padding: 0 0 0 0;\n",
              "      width: 32px;\n",
              "    }\n",
              "\n",
              "    .colab-df-convert:hover {\n",
              "      background-color: #E2EBFA;\n",
              "      box-shadow: 0px 1px 2px rgba(60, 64, 67, 0.3), 0px 1px 3px 1px rgba(60, 64, 67, 0.15);\n",
              "      fill: #174EA6;\n",
              "    }\n",
              "\n",
              "    [theme=dark] .colab-df-convert {\n",
              "      background-color: #3B4455;\n",
              "      fill: #D2E3FC;\n",
              "    }\n",
              "\n",
              "    [theme=dark] .colab-df-convert:hover {\n",
              "      background-color: #434B5C;\n",
              "      box-shadow: 0px 1px 3px 1px rgba(0, 0, 0, 0.15);\n",
              "      filter: drop-shadow(0px 1px 2px rgba(0, 0, 0, 0.3));\n",
              "      fill: #FFFFFF;\n",
              "    }\n",
              "  </style>\n",
              "\n",
              "      <script>\n",
              "        const buttonEl =\n",
              "          document.querySelector('#df-01451ffe-7ede-48e1-887d-c841178ddf21 button.colab-df-convert');\n",
              "        buttonEl.style.display =\n",
              "          google.colab.kernel.accessAllowed ? 'block' : 'none';\n",
              "\n",
              "        async function convertToInteractive(key) {\n",
              "          const element = document.querySelector('#df-01451ffe-7ede-48e1-887d-c841178ddf21');\n",
              "          const dataTable =\n",
              "            await google.colab.kernel.invokeFunction('convertToInteractive',\n",
              "                                                     [key], {});\n",
              "          if (!dataTable) return;\n",
              "\n",
              "          const docLinkHtml = 'Like what you see? Visit the ' +\n",
              "            '<a target=\"_blank\" href=https://colab.research.google.com/notebooks/data_table.ipynb>data table notebook</a>'\n",
              "            + ' to learn more about interactive tables.';\n",
              "          element.innerHTML = '';\n",
              "          dataTable['output_type'] = 'display_data';\n",
              "          await google.colab.output.renderOutput(dataTable, element);\n",
              "          const docLink = document.createElement('div');\n",
              "          docLink.innerHTML = docLinkHtml;\n",
              "          element.appendChild(docLink);\n",
              "        }\n",
              "      </script>\n",
              "    </div>\n",
              "  </div>\n",
              "  "
            ]
          },
          "metadata": {},
          "execution_count": 36
        }
      ]
    },
    {
      "cell_type": "markdown",
      "source": [
        "# Random Forest Classifier with top 25 features and GA Hyperparameter tuning"
      ],
      "metadata": {
        "id": "PHIVEmV1GfEu"
      }
    },
    {
      "cell_type": "code",
      "source": [
        "# Top 25 RF Classifier\n",
        "clf = RandomForestClassifier()\n",
        "\n",
        "#mutation_adapter = ExponentialAdapter(initial_value=0.8, end_value=0.2, adaptive_rate=0.1)\n",
        "#crossover_adapter = ExponentialAdapter(initial_value=0.2, end_value=0.8, adaptive_rate=0.1)\n",
        "\n",
        "param_grid = {'min_weight_fraction_leaf': Continuous(0.01, 0.5, distribution='log-uniform'),\n",
        "              'bootstrap': Categorical([True, False]),\n",
        "              'max_depth': Integer(2, 30),\n",
        "              'max_leaf_nodes': Integer(2, 35),\n",
        "              'n_estimators': Integer(100, 300)}\n",
        "\n",
        "cv = StratifiedKFold(n_splits=3, shuffle=True)\n",
        "\n",
        "evolved_estimator = GASearchCV(estimator=clf,\n",
        "                               cv=cv,\n",
        "                               scoring='accuracy',\n",
        "                               population_size=20,\n",
        "                               generations=25,\n",
        "                              #  mutation_probability=mutation_adapter,\n",
        "                              #  crossover_probability=crossover_adapter,\n",
        "                               param_grid=param_grid,\n",
        "                               n_jobs=-1)\n",
        "\n",
        "# Train and optimize the estimator\n",
        "evolved_estimator.fit(X_rus_common25, Y_u)\n",
        "# Best parameters found\n",
        "print(evolved_estimator.best_params_)\n",
        "# Use the model fitted with the best parameters\n",
        "y_predict_ga = evolved_estimator.predict(X_test25)\n",
        "print(accuracy_score(Y_test, y_predict_ga))\n",
        "\n",
        "# Saved metadata for further analysis\n",
        "print(\"Stats achieved in each generation: \", evolved_estimator.history)\n",
        "print(\"Best k solutions: \", evolved_estimator.hof)"
      ],
      "metadata": {
        "colab": {
          "base_uri": "https://localhost:8080/"
        },
        "id": "w7xb713t-ovT",
        "outputId": "fa220302-ecbc-4c37-ce39-27cbcfd6bfa5"
      },
      "execution_count": null,
      "outputs": [
        {
          "output_type": "stream",
          "name": "stderr",
          "text": [
            "/usr/local/lib/python3.7/dist-packages/deap/creator.py:141: RuntimeWarning: A class named 'Individual' has already been created and it will be overwritten. Consider deleting previous creation of that class or rename it.\n",
            "  RuntimeWarning)\n"
          ]
        },
        {
          "output_type": "stream",
          "name": "stdout",
          "text": [
            "gen\tnevals\tfitness \tfitness_std\tfitness_max\tfitness_min\n",
            "0  \t20    \t0.682149\t0.0168115  \t0.70345    \t0.649418   \n",
            "1  \t40    \t0.698005\t0.00787162 \t0.70345    \t0.681629   \n",
            "2  \t40    \t0.702442\t0.00369668 \t0.70345    \t0.686409   \n",
            "3  \t40    \t0.70345 \t2.48253e-17\t0.70345    \t0.70345    \n",
            "4  \t40    \t0.702961\t0.00123693 \t0.70345    \t0.69867    \n",
            "5  \t40    \t0.70345 \t6.08094e-17\t0.70345    \t0.70345    \n",
            "6  \t40    \t0.70345 \t6.56817e-17\t0.70345    \t0.70345    \n",
            "7  \t40    \t0.70345 \t7.02167e-17\t0.70345    \t0.70345    \n",
            "8  \t40    \t0.703304\t0.000634088\t0.70345    \t0.70054    \n",
            "9  \t40    \t0.70345 \t6.08094e-17\t0.70345    \t0.70345    \n",
            "10 \t40    \t0.702307\t0.00412001 \t0.70345    \t0.684539   \n",
            "11 \t40    \t0.703367\t0.000362336\t0.70345    \t0.701787   \n",
            "12 \t40    \t0.703283\t0.000724671\t0.70345    \t0.700125   \n",
            "13 \t40    \t0.70345 \t7.4476e-17 \t0.70345    \t0.70345    \n",
            "14 \t40    \t0.70345 \t7.4476e-17 \t0.70345    \t0.70345    \n",
            "15 \t40    \t0.70345 \t7.85046e-17\t0.70345    \t0.70345    \n",
            "16 \t40    \t0.7032  \t0.00108701 \t0.70345    \t0.698462   \n",
            "17 \t40    \t0.70345 \t9.61481e-17\t0.70345    \t0.70345    \n",
            "18 \t40    \t0.70345 \t8.23363e-17\t0.70345    \t0.70345    \n",
            "19 \t40    \t0.70345 \t8.9509e-17 \t0.70345    \t0.70345    \n",
            "20 \t40    \t0.70345 \t8.23363e-17\t0.70345    \t0.70345    \n",
            "21 \t40    \t0.703346\t0.00045292 \t0.70345    \t0.701372   \n",
            "22 \t40    \t0.703346\t0.00045292 \t0.70345    \t0.701372   \n",
            "23 \t40    \t0.703367\t0.000362336\t0.70345    \t0.701787   \n",
            "24 \t40    \t0.70345 \t8.23363e-17\t0.70345    \t0.70345    \n",
            "25 \t40    \t0.70345 \t8.59975e-17\t0.70345    \t0.70345    \n"
          ]
        },
        {
          "output_type": "stream",
          "name": "stderr",
          "text": [
            "/usr/local/lib/python3.7/dist-packages/sklearn_genetic/genetic_search.py:555: DataConversionWarning: A column-vector y was passed when a 1d array was expected. Please change the shape of y to (n_samples,), for example using ravel().\n",
            "  self.estimator.fit(self.X_, self.y_)\n"
          ]
        },
        {
          "output_type": "stream",
          "name": "stdout",
          "text": [
            "{'min_weight_fraction_leaf': 0.022518933603851782, 'bootstrap': True, 'max_depth': 4, 'max_leaf_nodes': 17, 'n_estimators': 131}\n",
            "0.5880689292291502\n",
            "Stats achieved in each generation:  {'gen': [0, 1, 2, 3, 4, 5, 6, 7, 8, 9, 10, 11, 12, 13, 14, 15, 16, 17, 18, 19, 20, 21, 22, 23, 24, 25], 'fitness': [0.6821487946799667, 0.698004987531172, 0.7024418121363258, 0.7034497090606816, 0.7029613466334164, 0.7034497090606816, 0.7034497090606816, 0.7034497090606816, 0.7033042394014963, 0.7034497090606816, 0.7023067331670821, 0.7033665835411471, 0.7032834580216126, 0.7034497090606816, 0.7034497090606816, 0.7034497090606816, 0.7032003325020781, 0.7034497090606816, 0.7034497090606816, 0.7034497090606816, 0.7034497090606816, 0.7033458021612635, 0.7033458021612635, 0.7033665835411471, 0.7034497090606816, 0.7034497090606816], 'fitness_std': [0.016811545497500798, 0.007871618024776744, 0.003696676880201962, 2.482534153247273e-17, 0.001236928609638858, 6.080941944488117e-17, 6.568167990716596e-17, 7.021666937153402e-17, 0.0006340875437403445, 6.080941944488117e-17, 0.004120010109034004, 0.00036233573928020756, 0.0007246714785603796, 7.447602459741819e-17, 7.447602459741819e-17, 7.850462293418876e-17, 0.0010870072178405603, 9.614813431917819e-17, 8.233634315563857e-17, 8.95090418262362e-17, 8.233634315563857e-17, 0.00045291967410025156, 0.00045291967410025156, 0.00036233573928020886, 8.233634315563857e-17, 8.599750569898517e-17], 'fitness_max': [0.7034497090606817, 0.7034497090606817, 0.7034497090606817, 0.7034497090606817, 0.7034497090606817, 0.7034497090606817, 0.7034497090606817, 0.7034497090606817, 0.7034497090606817, 0.7034497090606817, 0.7034497090606817, 0.7034497090606817, 0.7034497090606817, 0.7034497090606817, 0.7034497090606817, 0.7034497090606817, 0.7034497090606817, 0.7034497090606817, 0.7034497090606817, 0.7034497090606817, 0.7034497090606817, 0.7034497090606817, 0.7034497090606817, 0.7034497090606817, 0.7034497090606817, 0.7034497090606817], 'fitness_min': [0.6494181213632585, 0.6816292601828762, 0.6864089775561099, 0.7034497090606816, 0.698669991687448, 0.7034497090606816, 0.7034497090606816, 0.7034497090606816, 0.7005403158769742, 0.7034497090606816, 0.6845386533665835, 0.7017871986699916, 0.7001246882793017, 0.7034497090606816, 0.7034497090606816, 0.7034497090606816, 0.6984621778886119, 0.7034497090606816, 0.7034497090606816, 0.7034497090606816, 0.7034497090606816, 0.7013715710723192, 0.7013715710723192, 0.7017871986699916, 0.7034497090606816, 0.7034497090606816]}\n",
            "Best k solutions:  {0: {'min_weight_fraction_leaf': 0.022518933603851782, 'bootstrap': True, 'max_depth': 4, 'max_leaf_nodes': 17, 'n_estimators': 131}}\n"
          ]
        }
      ]
    },
    {
      "cell_type": "code",
      "source": [
        "tuned_params = evolved_estimator.best_params_\n",
        "print(tuned_params)"
      ],
      "metadata": {
        "colab": {
          "base_uri": "https://localhost:8080/"
        },
        "id": "l4xFkshW99qx",
        "outputId": "43dde6e8-4703-49e2-e3b5-03ca598da905"
      },
      "execution_count": null,
      "outputs": [
        {
          "output_type": "stream",
          "name": "stdout",
          "text": [
            "{'min_weight_fraction_leaf': 0.022518933603851782, 'bootstrap': True, 'max_depth': 4, 'max_leaf_nodes': 17, 'n_estimators': 131}\n"
          ]
        }
      ]
    },
    {
      "cell_type": "code",
      "source": [
        "\n",
        "\n",
        "kaggle_test25 = testData.iloc[:, common_features_25]\n",
        "kaggle_test50 = testData.iloc[:, common_features_50]"
      ],
      "metadata": {
        "id": "dZDQfqWX7lc3"
      },
      "execution_count": null,
      "outputs": []
    },
    {
      "cell_type": "code",
      "source": [
        "\n",
        "\n",
        "X_train_25_whole = X_train.iloc[:, common_features_25]\n",
        "X_train_50_whole = X_train.iloc[:, common_features_50]"
      ],
      "metadata": {
        "id": "6sd59pqZ8HUS"
      },
      "execution_count": null,
      "outputs": []
    },
    {
      "cell_type": "code",
      "source": [
        "#Using the parameters obtained from HyperParameterTuning in the RandomForestClassifier\n",
        "clf = RandomForestClassifier(**tuned_params, class_weight = \"balanced\")\n",
        "clf.fit(X_train_25_whole, Y_train)\n",
        "clf_predict = clf.predict(kaggle_test25)\n",
        "submission = Xtest[[\"ID\"]]\n",
        "submission[\"TARGET\"]= clf_predict\n",
        "submission.to_csv(\"/gdrive/My Drive/A5/results_c.csv\", index = None)\n",
        "\n"
      ],
      "metadata": {
        "colab": {
          "base_uri": "https://localhost:8080/"
        },
        "id": "rOfLGB9X6_eN",
        "outputId": "30649837-457f-4cf8-f021-de859afe0f3c"
      },
      "execution_count": null,
      "outputs": [
        {
          "output_type": "stream",
          "name": "stderr",
          "text": [
            "/usr/local/lib/python3.7/dist-packages/ipykernel_launcher.py:3: DataConversionWarning: A column-vector y was passed when a 1d array was expected. Please change the shape of y to (n_samples,), for example using ravel().\n",
            "  This is separate from the ipykernel package so we can avoid doing imports until\n",
            "/usr/local/lib/python3.7/dist-packages/ipykernel_launcher.py:6: SettingWithCopyWarning: \n",
            "A value is trying to be set on a copy of a slice from a DataFrame.\n",
            "Try using .loc[row_indexer,col_indexer] = value instead\n",
            "\n",
            "See the caveats in the documentation: https://pandas.pydata.org/pandas-docs/stable/user_guide/indexing.html#returning-a-view-versus-a-copy\n",
            "  \n"
          ]
        }
      ]
    },
    {
      "cell_type": "markdown",
      "source": [
        "## Random Forest Classifier with top 50 features and HPT"
      ],
      "metadata": {
        "id": "3nUmfx5rG2te"
      }
    },
    {
      "cell_type": "code",
      "source": [
        "# Top 50 RF Classifier\n",
        "clf = RandomForestClassifier()\n",
        "\n",
        "#mutation_adapter = ExponentialAdapter(initial_value=0.8, end_value=0.2, adaptive_rate=0.1)\n",
        "#crossover_adapter = ExponentialAdapter(initial_value=0.2, end_value=0.8, adaptive_rate=0.1)\n",
        "\n",
        "param_grid = {'min_weight_fraction_leaf': Continuous(0.01, 0.5, distribution='log-uniform'),\n",
        "              'bootstrap': Categorical([True, False]),\n",
        "              'max_depth': Integer(2, 30),\n",
        "              'max_leaf_nodes': Integer(2, 35),\n",
        "              'n_estimators': Integer(100, 300)}\n",
        "\n",
        "cv = StratifiedKFold(n_splits=3, shuffle=True)\n",
        "\n",
        "evolved_estimator = GASearchCV(estimator=clf,\n",
        "                               cv=cv,\n",
        "                               scoring='accuracy',\n",
        "                               population_size=20,\n",
        "                               generations=25,\n",
        "                              #  mutation_probability=mutation_adapter,\n",
        "                              #  crossover_probability=crossover_adapter,\n",
        "                               param_grid=param_grid,\n",
        "                               n_jobs=-1)\n",
        "\n",
        "# Train and optimize the estimator\n",
        "evolved_estimator.fit(X_rus_common50, Y_u)\n",
        "# Best parameters found\n",
        "print(evolved_estimator.best_params_)\n",
        "# Use the model fitted with the best parameters\n",
        "y_predict_ga = evolved_estimator.predict(X_test50)\n",
        "print(accuracy_score(Y_test, y_predict_ga))\n",
        "\n",
        "# Saved metadata for further analysis\n",
        "print(\"Stats achieved in each generation: \", evolved_estimator.history)\n",
        "print(\"Best k solutions: \", evolved_estimator.hof)"
      ],
      "metadata": {
        "colab": {
          "base_uri": "https://localhost:8080/"
        },
        "id": "vI38FfarG12y",
        "outputId": "bf2340e2-2f53-4daa-c4a7-0e62d6d939a1"
      },
      "execution_count": null,
      "outputs": [
        {
          "output_type": "stream",
          "name": "stdout",
          "text": [
            "gen\tnevals\tfitness \tfitness_std\tfitness_max\tfitness_min\n",
            "0  \t20    \t0.717041\t0.0275328  \t0.751663   \t0.649418   \n",
            "1  \t40    \t0.741033\t0.0096539  \t0.752078   \t0.720698   \n",
            "2  \t40    \t0.747693\t0.00453391 \t0.752078   \t0.73192    \n",
            "3  \t40    \t0.748899\t0.00231047 \t0.752078   \t0.742311   \n",
            "4  \t40    \t0.748951\t0.00192323 \t0.751247   \t0.743973   \n",
            "5  \t40    \t0.749678\t0.00167735 \t0.751455   \t0.744389   \n",
            "6  \t40    \t0.75001 \t0.00111617 \t0.751455   \t0.747714   \n",
            "7  \t40    \t0.750052\t0.00147807 \t0.751455   \t0.746259   \n",
            "8  \t40    \t0.750156\t0.00132068 \t0.751455   \t0.746675   \n",
            "9  \t40    \t0.750436\t0.00157569 \t0.752078   \t0.746675   \n",
            "10 \t40    \t0.750249\t0.00221065 \t0.754988   \t0.74522    \n",
            "11 \t40    \t0.748732\t0.00508184 \t0.752078   \t0.728387   \n",
            "12 \t40    \t0.74867 \t0.00204187 \t0.752078   \t0.742727   \n",
            "13 \t40    \t0.749117\t0.00146634 \t0.751247   \t0.746052   \n",
            "14 \t40    \t0.749418\t0.00166718 \t0.751247   \t0.743558   \n",
            "15 \t40    \t0.750364\t0.00132068 \t0.753117   \t0.74813    \n",
            "16 \t40    \t0.749938\t0.00215075 \t0.753117   \t0.742311   \n",
            "17 \t40    \t0.749636\t0.00219721 \t0.753117   \t0.74522    \n",
            "18 \t40    \t0.749938\t0.00192281 \t0.753117   \t0.74522    \n",
            "19 \t40    \t0.750561\t0.00181537 \t0.753117   \t0.747714   \n",
            "20 \t40    \t0.751049\t0.00179909 \t0.753117   \t0.746675   \n",
            "21 \t40    \t0.750083\t0.00233307 \t0.753117   \t0.743558   \n",
            "22 \t40    \t0.74866 \t0.00431857 \t0.753117   \t0.732959   \n",
            "23 \t40    \t0.749605\t0.00228586 \t0.753117   \t0.746259   \n",
            "24 \t40    \t0.749522\t0.00179984 \t0.753117   \t0.746883   \n",
            "25 \t40    \t0.750208\t0.0020854  \t0.753117   \t0.74522    \n"
          ]
        },
        {
          "output_type": "stream",
          "name": "stderr",
          "text": [
            "/usr/local/lib/python3.7/dist-packages/sklearn_genetic/genetic_search.py:555: DataConversionWarning: A column-vector y was passed when a 1d array was expected. Please change the shape of y to (n_samples,), for example using ravel().\n",
            "  self.estimator.fit(self.X_, self.y_)\n"
          ]
        },
        {
          "output_type": "stream",
          "name": "stdout",
          "text": [
            "{'min_weight_fraction_leaf': 0.013398999972304449, 'bootstrap': True, 'max_depth': 16, 'max_leaf_nodes': 33, 'n_estimators': 274}\n",
            "0.7352012628255722\n",
            "Stats achieved in each generation:  {'gen': [0, 1, 2, 3, 4, 5, 6, 7, 8, 9, 10, 11, 12, 13, 14, 15, 16, 17, 18, 19, 20, 21, 22, 23, 24, 25], 'fitness': [0.7170407315045719, 0.7410328345802161, 0.7476932668329178, 0.748898586866168, 0.7489505403158769, 0.7496778886118038, 0.7500103906899419, 0.750051953449709, 0.7501558603491272, 0.7504364089775561, 0.7502493765586037, 0.748732335827099, 0.7486699916874481, 0.7491167913549461, 0.7494181213632587, 0.7503636741479635, 0.749937655860349, 0.7496363258520365, 0.7499376558603491, 0.7505610972568578, 0.7510494596841231, 0.7500831255195346, 0.7486596009975064, 0.7496051537822112, 0.7495220282626767, 0.7502078137988363], 'fitness_std': [0.02753281093904922, 0.009653901618113761, 0.004533914184007376, 0.0023104745257440194, 0.0019232322223740092, 0.0016773483221887043, 0.0011161651857723516, 0.0014780733615562614, 0.0013206808082490587, 0.0015756891178110724, 0.002210654388524035, 0.005081844151125347, 0.002041869718963699, 0.0014663395248552754, 0.0016671796442337089, 0.0013206808082490305, 0.0021507473228695832, 0.0021972071480247913, 0.0019228111411720838, 0.0018153698072951284, 0.0017990902781181825, 0.00233307434757872, 0.004318566248373463, 0.0022858573244292227, 0.0017998402678449103, 0.002085398787082604], 'fitness_max': [0.7516625103906899, 0.7520781379883624, 0.7520781379883624, 0.7520781379883624, 0.7512468827930174, 0.7514546965918537, 0.7514546965918537, 0.7514546965918537, 0.7514546965918537, 0.7520781379883624, 0.7549875311720697, 0.7520781379883624, 0.7520781379883624, 0.7512468827930174, 0.7512468827930174, 0.7531172069825436, 0.7531172069825436, 0.7531172069825436, 0.7531172069825436, 0.7531172069825436, 0.7531172069825436, 0.7531172069825436, 0.7531172069825436, 0.7531172069825436, 0.7531172069825436, 0.7531172069825436], 'fitness_min': [0.6494181213632585, 0.7206982543640897, 0.7319201995012469, 0.7423108894430591, 0.7439733998337489, 0.7443890274314214, 0.7477140482128014, 0.7462593516209477, 0.7466749792186201, 0.7466749792186201, 0.7452202826267665, 0.7283873649210307, 0.7427265170407314, 0.7460515378221114, 0.7435577722360764, 0.7481296758104738, 0.7423108894430591, 0.7452202826267663, 0.7452202826267665, 0.7477140482128014, 0.7466749792186201, 0.7435577722360764, 0.7329592684954281, 0.7462593516209477, 0.7468827930174564, 0.7452202826267665]}\n",
            "Best k solutions:  {0: {'min_weight_fraction_leaf': 0.013398999972304449, 'bootstrap': True, 'max_depth': 16, 'max_leaf_nodes': 33, 'n_estimators': 274}}\n"
          ]
        }
      ]
    },
    {
      "cell_type": "code",
      "source": [
        "tuned_params = evolved_estimator.best_params_\n",
        "print(tuned_params)"
      ],
      "metadata": {
        "colab": {
          "base_uri": "https://localhost:8080/"
        },
        "id": "n1CmE3DAHP1i",
        "outputId": "a4233d5b-5340-420e-a460-25342c2dc977"
      },
      "execution_count": null,
      "outputs": [
        {
          "output_type": "stream",
          "name": "stdout",
          "text": [
            "{'min_weight_fraction_leaf': 0.013398999972304449, 'bootstrap': True, 'max_depth': 16, 'max_leaf_nodes': 33, 'n_estimators': 274}\n"
          ]
        }
      ]
    },
    {
      "cell_type": "code",
      "source": [
        "#Using the parameters obtained from HyperParameterTuning in the RandomForestClassifier\n",
        "clf = RandomForestClassifier(**tuned_params, class_weight = \"balanced\")\n",
        "clf.fit(X_train_50_whole, Y_train)\n",
        "clf_predict = clf.predict(kaggle_test50)\n",
        "submission_50 = Xtest[[\"ID\"]]\n",
        "submission_50[\"TARGET\"]= clf_predict\n",
        "submission_50.to_csv(\"/gdrive/My Drive/A5/results_50.csv\", index = None)"
      ],
      "metadata": {
        "colab": {
          "base_uri": "https://localhost:8080/"
        },
        "id": "rpVwzyJ0HYcI",
        "outputId": "d23b4d9c-2132-4f1a-dfb4-2cd647f8f163"
      },
      "execution_count": null,
      "outputs": [
        {
          "output_type": "stream",
          "name": "stderr",
          "text": [
            "/usr/local/lib/python3.7/dist-packages/ipykernel_launcher.py:3: DataConversionWarning: A column-vector y was passed when a 1d array was expected. Please change the shape of y to (n_samples,), for example using ravel().\n",
            "  This is separate from the ipykernel package so we can avoid doing imports until\n",
            "/usr/local/lib/python3.7/dist-packages/ipykernel_launcher.py:6: SettingWithCopyWarning: \n",
            "A value is trying to be set on a copy of a slice from a DataFrame.\n",
            "Try using .loc[row_indexer,col_indexer] = value instead\n",
            "\n",
            "See the caveats in the documentation: https://pandas.pydata.org/pandas-docs/stable/user_guide/indexing.html#returning-a-view-versus-a-copy\n",
            "  \n"
          ]
        }
      ]
    },
    {
      "cell_type": "markdown",
      "source": [
        "## Decision Tree Classifier top 25 features Hyperparameter tuning with GA"
      ],
      "metadata": {
        "id": "TAT4R2QiLoHl"
      }
    },
    {
      "cell_type": "code",
      "source": [
        "# Top 25 RF Classifier\n",
        "clf = DecisionTreeClassifier()\n",
        "\n",
        "#mutation_adapter = ExponentialAdapter(initial_value=0.8, end_value=0.2, adaptive_rate=0.1)\n",
        "#crossover_adapter = ExponentialAdapter(initial_value=0.2, end_value=0.8, adaptive_rate=0.1)\n",
        "\n",
        "param_grid = {'min_samples_split' : Integer(10,100),'max_depth': Integer(1,20)}\n",
        "\n",
        "cv = StratifiedKFold(n_splits=3, shuffle=True)\n",
        "\n",
        "evolved_estimator = GASearchCV(estimator=clf,\n",
        "                               cv=cv,\n",
        "                               scoring='accuracy',\n",
        "                               population_size=20,\n",
        "                               generations=25,\n",
        "                              #  mutation_probability=mutation_adapter,\n",
        "                              #  crossover_probability=crossover_adapter,\n",
        "                               param_grid=param_grid,\n",
        "                               n_jobs=-1)\n",
        "\n",
        "# Train and optimize the estimator\n",
        "evolved_estimator.fit(X_rus_common25, Y_u)\n",
        "# Best parameters found\n",
        "print(evolved_estimator.best_params_)\n",
        "# Use the model fitted with the best parameters\n",
        "y_predict_ga = evolved_estimator.predict(X_test25)\n",
        "print(accuracy_score(Y_test, y_predict_ga))\n",
        "\n",
        "# Saved metadata for further analysis\n",
        "print(\"Stats achieved in each generation: \", evolved_estimator.history)\n",
        "print(\"Best k solutions: \", evolved_estimator.hof)"
      ],
      "metadata": {
        "colab": {
          "base_uri": "https://localhost:8080/"
        },
        "id": "t9EZrY4pLnxg",
        "outputId": "926a35bd-0f9e-4591-d1d2-b09a73aae1e6"
      },
      "execution_count": null,
      "outputs": [
        {
          "output_type": "stream",
          "name": "stdout",
          "text": [
            "gen\tnevals\tfitness \tfitness_std\tfitness_max\tfitness_min\n",
            "0  \t20    \t0.698286\t0.00222785 \t0.702618   \t0.694929   \n",
            "1  \t40    \t0.701725\t0.0011135  \t0.70345    \t0.69867    \n",
            "2  \t40    \t0.701735\t0.000704348\t0.703034   \t0.700333   \n",
            "3  \t40    \t0.702161\t0.000586315\t0.703034   \t0.700333   \n",
            "4  \t40    \t0.701486\t0.00172432 \t0.702826   \t0.696592   \n",
            "5  \t40    \t0.702078\t0.0011578  \t0.70345    \t0.698254   \n",
            "6  \t40    \t0.702546\t0.000831969\t0.70345    \t0.699917   \n",
            "7  \t40    \t0.702889\t0.00105167 \t0.70345    \t0.699501   \n",
            "8  \t40    \t0.702577\t0.000890452\t0.70345    \t0.700748   \n",
            "9  \t40    \t0.703055\t0.000598345\t0.70345    \t0.700748   \n",
            "10 \t40    \t0.702857\t0.00100586 \t0.70345    \t0.699293   \n",
            "11 \t40    \t0.703096\t0.000591813\t0.70345    \t0.700748   \n",
            "12 \t40    \t0.7032  \t0.00051578 \t0.70345    \t0.701164   \n",
            "13 \t40    \t0.703242\t0.000347739\t0.70345    \t0.701995   \n",
            "14 \t40    \t0.703096\t0.000657493\t0.70345    \t0.700956   \n",
            "15 \t40    \t0.70318 \t0.000577034\t0.70345    \t0.700956   \n",
            "16 \t40    \t0.702847\t0.00116431 \t0.70345    \t0.700125   \n",
            "17 \t40    \t0.702941\t0.000764899\t0.70345    \t0.700333   \n",
            "18 \t40    \t0.702733\t0.000932792\t0.70345    \t0.700125   \n",
            "19 \t40    \t0.702868\t0.00102988 \t0.70345    \t0.699917   \n",
            "20 \t40    \t0.703013\t0.000679459\t0.70345    \t0.701164   \n",
            "21 \t40    \t0.702795\t0.00110019 \t0.70345    \t0.699917   \n",
            "22 \t40    \t0.703169\t0.000686965\t0.70345    \t0.700956   \n",
            "23 \t40    \t0.702629\t0.00118011 \t0.70345    \t0.699086   \n",
            "24 \t40    \t0.70319 \t0.000685707\t0.70345    \t0.700748   \n",
            "25 \t40    \t0.703315\t0.000384736\t0.70345    \t0.701787   \n",
            "{'min_samples_split': 36, 'max_depth': 4}\n",
            "0.5880689292291502\n",
            "Stats achieved in each generation:  {'gen': [0, 1, 2, 3, 4, 5, 6, 7, 8, 9, 10, 11, 12, 13, 14, 15, 16, 17, 18, 19, 20, 21, 22, 23, 24, 25], 'fitness': [0.6982855361596009, 0.7017248545303408, 0.7017352452202826, 0.702161263507897, 0.7014858686616792, 0.7020781379883623, 0.7025457190357439, 0.7028886118038238, 0.7025768911055694, 0.7030548628428928, 0.7028574397339984, 0.7030964256026601, 0.7032003325020781, 0.7032418952618454, 0.70309642560266, 0.7031795511221943, 0.7028470490440565, 0.7029405652535329, 0.7027327514546966, 0.7028678304239402, 0.7030133000831256, 0.7027950955943474, 0.7031691604322526, 0.7026288445552785, 0.7031899418121363, 0.7033146300914381], 'fitness_std': [0.0022278521263292355, 0.001113501938871038, 0.0007043477693300754, 0.0005863148786228338, 0.0017243223948555488, 0.0011578045118191234, 0.0008319692485904446, 0.0010516692376458716, 0.000890452422511574, 0.0005983449729379896, 0.0010058595754388925, 0.000591813419197765, 0.0005157802845382904, 0.000347738996896975, 0.0006574934338967762, 0.0005770342218169118, 0.0011643137845246381, 0.0007648987675718846, 0.000932792323910057, 0.0010298845962895917, 0.000679458966096102, 0.0011001871342827061, 0.0006869652816319907, 0.0011801097732351991, 0.0006857068142933046, 0.00038473625481243965], 'fitness_max': [0.7026184538653366, 0.7034497090606816, 0.703034081463009, 0.703034081463009, 0.7028262676641729, 0.7034497090606816, 0.7034497090606816, 0.7034497090606816, 0.7034497090606816, 0.7034497090606817, 0.7034497090606817, 0.7034497090606817, 0.7034497090606817, 0.7034497090606817, 0.7034497090606817, 0.7034497090606817, 0.7034497090606817, 0.7034497090606817, 0.7034497090606817, 0.7034497090606817, 0.7034497090606817, 0.7034497090606817, 0.7034497090606817, 0.7034497090606817, 0.7034497090606817, 0.7034497090606817], 'fitness_min': [0.6949293433083956, 0.698669991687448, 0.700332502078138, 0.700332502078138, 0.6965918536990855, 0.6982543640897756, 0.6999168744804655, 0.699501246882793, 0.7007481296758105, 0.7007481296758105, 0.6992934330839568, 0.7007481296758105, 0.7011637572734829, 0.7019950124688279, 0.7009559434746467, 0.7009559434746467, 0.7001246882793017, 0.700332502078138, 0.7001246882793017, 0.6999168744804655, 0.7011637572734829, 0.6999168744804655, 0.7009559434746467, 0.6990856192851206, 0.7007481296758105, 0.7017871986699916]}\n",
            "Best k solutions:  {0: {'min_samples_split': 36, 'max_depth': 4}}\n"
          ]
        }
      ]
    },
    {
      "cell_type": "code",
      "source": [
        "tuned_params = evolved_estimator.best_params_\n",
        "print(tuned_params)"
      ],
      "metadata": {
        "id": "D0C6-pZiMhZx",
        "colab": {
          "base_uri": "https://localhost:8080/"
        },
        "outputId": "096b4427-d850-4497-d0a8-754736cb434c"
      },
      "execution_count": null,
      "outputs": [
        {
          "output_type": "stream",
          "name": "stdout",
          "text": [
            "{'min_samples_split': 36, 'max_depth': 4}\n"
          ]
        }
      ]
    },
    {
      "cell_type": "code",
      "source": [
        "#Using the parameters obtained from HyperParameterTuning in the DTClassifier\n",
        "clf = DecisionTreeClassifier(**tuned_params, class_weight = \"balanced\")\n",
        "clf.fit(X_train_25_whole, Y_train)\n",
        "clf_predict = clf.predict(kaggle_test25)\n",
        "submission_25 = Xtest[[\"ID\"]]\n",
        "submission_25[\"TARGET\"]= clf_predict\n",
        "submission_25.to_csv(\"/gdrive/My Drive/A5/resultsDT_25.csv\", index = None)"
      ],
      "metadata": {
        "id": "IHBsg_t9MhTO",
        "colab": {
          "base_uri": "https://localhost:8080/"
        },
        "outputId": "7a1e36a1-7b8c-4fce-8b4f-b2dc902fec9f"
      },
      "execution_count": null,
      "outputs": [
        {
          "output_type": "stream",
          "name": "stderr",
          "text": [
            "/usr/local/lib/python3.7/dist-packages/ipykernel_launcher.py:6: SettingWithCopyWarning: \n",
            "A value is trying to be set on a copy of a slice from a DataFrame.\n",
            "Try using .loc[row_indexer,col_indexer] = value instead\n",
            "\n",
            "See the caveats in the documentation: https://pandas.pydata.org/pandas-docs/stable/user_guide/indexing.html#returning-a-view-versus-a-copy\n",
            "  \n"
          ]
        }
      ]
    },
    {
      "cell_type": "markdown",
      "source": [
        "## Decision Tree Classifier Top 50 features hyperparameter tuning using GA"
      ],
      "metadata": {
        "id": "WMpMEAppNHhS"
      }
    },
    {
      "cell_type": "code",
      "source": [
        "# Top 50 DT Classifier\n",
        "clf = DecisionTreeClassifier()\n",
        "\n",
        "#mutation_adapter = ExponentialAdapter(initial_value=0.8, end_value=0.2, adaptive_rate=0.1)\n",
        "#crossover_adapter = ExponentialAdapter(initial_value=0.2, end_value=0.8, adaptive_rate=0.1)\n",
        "\n",
        "param_grid = {'min_samples_split' : Integer(10,100),'max_depth': Integer(1,20)}\n",
        "\n",
        "cv = StratifiedKFold(n_splits=3, shuffle=True)\n",
        "\n",
        "evolved_estimator = GASearchCV(estimator=clf,\n",
        "                               cv=cv,\n",
        "                               scoring='accuracy',\n",
        "                               population_size=20,\n",
        "                               generations=25,\n",
        "                              #  mutation_probability=mutation_adapter,\n",
        "                              #  crossover_probability=crossover_adapter,\n",
        "                               param_grid=param_grid,\n",
        "                               n_jobs=-1)\n",
        "\n",
        "# Train and optimize the estimator\n",
        "evolved_estimator.fit(X_rus_common50, Y_u)\n",
        "# Best parameters found\n",
        "print(evolved_estimator.best_params_)\n",
        "# Use the model fitted with the best parameters\n",
        "y_predict_ga = evolved_estimator.predict(X_test50)\n",
        "print(accuracy_score(Y_test, y_predict_ga))\n",
        "\n",
        "# Saved metadata for further analysis\n",
        "print(\"Stats achieved in each generation: \", evolved_estimator.history)\n",
        "print(\"Best k solutions: \", evolved_estimator.hof)"
      ],
      "metadata": {
        "id": "KMSvqEvPNGeK",
        "colab": {
          "base_uri": "https://localhost:8080/"
        },
        "outputId": "1f8e7a27-6bcf-4f3b-8a7c-13192b114602"
      },
      "execution_count": null,
      "outputs": [
        {
          "output_type": "stream",
          "name": "stdout",
          "text": [
            "gen\tnevals\tfitness \tfitness_std\tfitness_max\tfitness_min\n",
            "0  \t20    \t0.731193\t0.00845843 \t0.744181   \t0.7101     \n",
            "1  \t40    \t0.737604\t0.00379183 \t0.743766   \t0.731712   \n",
            "2  \t40    \t0.74016 \t0.00166157 \t0.743766   \t0.736284   \n",
            "3  \t40    \t0.741823\t0.00211447 \t0.747506   \t0.737947   \n",
            "4  \t40    \t0.742508\t0.0023248  \t0.747506   \t0.737947   \n",
            "5  \t40    \t0.742467\t0.00256452 \t0.747506   \t0.735661   \n",
            "6  \t40    \t0.742488\t0.00263627 \t0.747506   \t0.736908   \n",
            "7  \t40    \t0.743049\t0.00386862 \t0.747506   \t0.729426   \n",
            "8  \t40    \t0.743236\t0.00291197 \t0.747506   \t0.734622   \n",
            "9  \t40    \t0.742342\t0.00368439 \t0.747506   \t0.733167   \n",
            "10 \t40    \t0.744566\t0.00193866 \t0.747506   \t0.740441   \n",
            "11 \t40    \t0.744057\t0.00367566 \t0.747506   \t0.734206   \n",
            "12 \t40    \t0.744618\t0.0021755  \t0.747091   \t0.740441   \n",
            "13 \t40    \t0.744503\t0.00233129 \t0.747091   \t0.740441   \n",
            "14 \t40    \t0.744534\t0.00273818 \t0.74813    \t0.737531   \n",
            "15 \t40    \t0.744503\t0.00342702 \t0.74813    \t0.732959   \n",
            "16 \t40    \t0.744462\t0.00268255 \t0.748337   \t0.739817   \n",
            "17 \t40    \t0.743142\t0.00372387 \t0.748337   \t0.736908   \n",
            "18 \t40    \t0.744534\t0.0036796  \t0.748337   \t0.736908   \n",
            "19 \t40    \t0.746498\t0.00227959 \t0.748337   \t0.740856   \n",
            "20 \t40    \t0.74521 \t0.00316906 \t0.748337   \t0.733167   \n",
            "21 \t40    \t0.745522\t0.00264379 \t0.748337   \t0.740441   \n",
            "22 \t40    \t0.744909\t0.00227601 \t0.748337   \t0.740233   \n",
            "23 \t40    \t0.745688\t0.0021725  \t0.748337   \t0.740233   \n",
            "24 \t40    \t0.745896\t0.00202432 \t0.749584   \t0.741064   \n",
            "25 \t40    \t0.745948\t0.00128861 \t0.747714   \t0.743558   \n",
            "{'min_samples_split': 100, 'max_depth': 5}\n",
            "0.7591423309655354\n",
            "Stats achieved in each generation:  {'gen': [0, 1, 2, 3, 4, 5, 6, 7, 8, 9, 10, 11, 12, 13, 14, 15, 16, 17, 18, 19, 20, 21, 22, 23, 24, 25], 'fitness': [0.73119285120532, 0.737603906899418, 0.7401600166251039, 0.7418225270157939, 0.7425083125519535, 0.7424667497921862, 0.7424875311720699, 0.7430486284289277, 0.7432356608478805, 0.7423420615128845, 0.7445656691604322, 0.7440565253532834, 0.7446176226101413, 0.7445033250207814, 0.7445344970906068, 0.7445033250207814, 0.7444617622610141, 0.743142144638404, 0.7445344970906067, 0.7464983374896094, 0.7452098919368246, 0.7455216126350791, 0.7449085619285121, 0.745687863674148, 0.7458956774729844, 0.7459476309226932], 'fitness_std': [0.008458430081983319, 0.003791833124479699, 0.0016615684675828466, 0.002114473490479579, 0.00232479932320073, 0.0025645224776349586, 0.002636267730368159, 0.003868617271742059, 0.0029119711592340575, 0.0036843897933236986, 0.0019386643996987683, 0.003675661589272726, 0.0021755037928714387, 0.002331292022815902, 0.0027381784608476317, 0.0034270221915256613, 0.002682549351569309, 0.003723870194870621, 0.0036795955109354584, 0.0022795904460490837, 0.0031690582270970467, 0.00264379257793955, 0.002276011790316756, 0.002172499209174661, 0.002024318683916966, 0.001288613133659805], 'fitness_max': [0.7441812136325852, 0.7437655860349128, 0.7437655860349128, 0.7475062344139651, 0.7475062344139651, 0.7475062344139651, 0.7475062344139651, 0.7475062344139651, 0.7475062344139651, 0.7475062344139651, 0.7475062344139651, 0.7475062344139651, 0.7470906068162927, 0.7470906068162927, 0.7481296758104738, 0.7481296758104738, 0.7483374896093101, 0.7483374896093101, 0.7483374896093101, 0.7483374896093101, 0.7483374896093101, 0.7483374896093101, 0.7483374896093101, 0.7483374896093101, 0.7495843724023276, 0.7477140482128014], 'fitness_min': [0.7100997506234413, 0.7317123857024107, 0.7362842892768079, 0.7379467996674979, 0.7379467996674979, 0.7356608478802992, 0.7369077306733166, 0.729426433915212, 0.734621778886118, 0.7331670822942643, 0.7404405652535329, 0.7342061512884456, 0.7404405652535329, 0.7404405652535329, 0.7375311720698253, 0.7329592684954281, 0.7398171238570241, 0.7369077306733166, 0.7369077306733166, 0.7408561928512053, 0.7331670822942643, 0.7404405652535327, 0.7402327514546966, 0.7402327514546966, 0.7410640066500416, 0.7435577722360766]}\n",
            "Best k solutions:  {0: {'min_samples_split': 100, 'max_depth': 5}}\n"
          ]
        }
      ]
    },
    {
      "cell_type": "code",
      "source": [
        "tuned_params = evolved_estimator.best_params_\n",
        "print(tuned_params)"
      ],
      "metadata": {
        "id": "lqRlh-yJNGeL",
        "colab": {
          "base_uri": "https://localhost:8080/"
        },
        "outputId": "57264264-59cf-49d4-e001-a5e03d444460"
      },
      "execution_count": null,
      "outputs": [
        {
          "output_type": "stream",
          "name": "stdout",
          "text": [
            "{'min_samples_split': 100, 'max_depth': 5}\n"
          ]
        }
      ]
    },
    {
      "cell_type": "code",
      "source": [
        "#Using the parameters obtained from HyperParameterTuning in the RandomForestClassifier\n",
        "clf = DecisionTreeClassifier(**tuned_params, class_weight = \"balanced\")\n",
        "clf.fit(X_train_50_whole, Y_train)\n",
        "clf_predict = clf.predict(kaggle_test50)\n",
        "submissiondt_50 = Xtest[[\"ID\"]]\n",
        "submissiondt_50[\"TARGET\"]= clf_predict\n",
        "submissiondt_50.to_csv(\"/gdrive/My Drive/A5/resultsdt_50.csv\", index = None)"
      ],
      "metadata": {
        "id": "Y4Z_X1VhNGeL",
        "colab": {
          "base_uri": "https://localhost:8080/"
        },
        "outputId": "7aacb6f8-c8c2-466f-a5cb-ddc0e3d400e7"
      },
      "execution_count": null,
      "outputs": [
        {
          "output_type": "stream",
          "name": "stderr",
          "text": [
            "/usr/local/lib/python3.7/dist-packages/ipykernel_launcher.py:6: SettingWithCopyWarning: \n",
            "A value is trying to be set on a copy of a slice from a DataFrame.\n",
            "Try using .loc[row_indexer,col_indexer] = value instead\n",
            "\n",
            "See the caveats in the documentation: https://pandas.pydata.org/pandas-docs/stable/user_guide/indexing.html#returning-a-view-versus-a-copy\n",
            "  \n"
          ]
        }
      ]
    },
    {
      "cell_type": "markdown",
      "source": [
        "## MLP Classifier with top 25 features and GA"
      ],
      "metadata": {
        "id": "DVyVpd7uto2W"
      }
    },
    {
      "cell_type": "code",
      "source": [
        "import itertools"
      ],
      "metadata": {
        "id": "HIMS9-EcwAnw"
      },
      "execution_count": null,
      "outputs": []
    },
    {
      "cell_type": "code",
      "source": [
        "# # Top 25 MLP Classifier\n",
        "# clf = MLPClassifier()\n",
        "\n",
        "# #mutation_adapter = ExponentialAdapter(initial_value=0.8, end_value=0.2, adaptive_rate=0.1)\n",
        "# #crossover_adapter = ExponentialAdapter(initial_value=0.2, end_value=0.8, adaptive_rate=0.1)\n",
        "\n",
        "# param_grid = { 'activation':['tanh', 'relu'], 'learning_rate':['constant', 'adaptive'], 'max_iter' :[100, 150]}\n",
        "# cv = StratifiedKFold(n_splits=3, shuffle=True)\n",
        "\n",
        "# evolved_estimator = GASearchCV(estimator=clf,\n",
        "#                                cv=cv,\n",
        "#                                scoring='accuracy',\n",
        "#                                population_size=20,\n",
        "#                                generations=25,\n",
        "#                               #  mutation_probability=mutation_adapter,\n",
        "#                               #  crossover_probability=crossover_adapter,\n",
        "#                                param_grid=param_grid,\n",
        "#                                n_jobs=-1)\n",
        "\n",
        "# # Train and optimize the estimator\n",
        "# evolved_estimator.fit(X_rus_common25, Y_rus)\n",
        "# # Best parameters found\n",
        "# print(evolved_estimator.best_params_)\n",
        "# # Use the model fitted with the best parameters\n",
        "# y_predict_ga = evolved_estimator.predict(X_test25)\n",
        "# print(accuracy_score(Y_test, y_predict_ga))\n",
        "\n",
        "# # Saved metadata for further analysis\n",
        "# print(\"Stats achieved in each generation: \", evolved_estimator.history)\n",
        "# print(\"Best k solutions: \", evolved_estimator.hof)\n",
        "\n",
        "\n",
        "param_grid = {'tol': Continuous(1e-2, 1e10, distribution='log-uniform'),\n",
        "              'alpha': Continuous(1e-5, 2e-5),\n",
        "              'activation': Categorical(['logistic', 'tanh']),\n",
        "              'batch_size': Integer(300, 350)\n",
        "             }\n",
        "# The base classifier to tune\n",
        "clf = MLPClassifier(hidden_layer_sizes=(50, 30))\n",
        "# Our cross-validation strategy (it could be just an int)\n",
        "cv = StratifiedKFold(n_splits=3, shuffle=True)\n",
        "# The main class from sklearn-genetic-opt\n",
        "evolved_estimator = GASearchCV(estimator=clf,\n",
        "                              cv=cv,\n",
        "                              scoring='accuracy',\n",
        "                              param_grid=param_grid,\n",
        "                              n_jobs=-1,\n",
        "                              verbose=True,\n",
        "                              population_size=20,\n",
        "                              generations=25)\n",
        "# Train and optimize the estimator\n",
        "evolved_estimator.fit(X_rus_common25, Y_u)\n",
        "# Best parameters found\n",
        "print(evolved_estimator.best_params_)\n",
        "# Use the model fitted with the best parameters\n",
        "y_predict_ga = evolved_estimator.predict(X_test25)\n",
        "print(accuracy_score(Y_test, y_predict_ga))"
      ],
      "metadata": {
        "colab": {
          "base_uri": "https://localhost:8080/"
        },
        "id": "zEOBNC3UpPc9",
        "outputId": "37736ea6-0988-4100-f962-fbb2529eac6e"
      },
      "execution_count": null,
      "outputs": [
        {
          "output_type": "stream",
          "name": "stdout",
          "text": [
            "gen\tnevals\tfitness \tfitness_std\tfitness_max\tfitness_min\n",
            "0  \t20    \t0.658365\t0.00843158 \t0.674148   \t0.643599   \n",
            "1  \t40    \t0.66223 \t0.00565096 \t0.674148   \t0.651288   \n",
            "2  \t40    \t0.665846\t0.00575741 \t0.678512   \t0.656276   \n",
            "3  \t40    \t0.668381\t0.00528308 \t0.678512   \t0.658354   \n",
            "4  \t40    \t0.667363\t0.00612338 \t0.678512   \t0.652743   \n",
            "5  \t40    \t0.665357\t0.00270086 \t0.669992   \t0.658354   \n",
            "6  \t40    \t0.665659\t0.00375751 \t0.669992   \t0.657315   \n",
            "7  \t40    \t0.668402\t0.00459606 \t0.67394    \t0.658146   \n",
            "8  \t40    \t0.669711\t0.00363126 \t0.67394    \t0.660848   \n",
            "9  \t40    \t0.668869\t0.0053309  \t0.675603   \t0.660224   \n",
            "10 \t40    \t0.669545\t0.00562184 \t0.675603   \t0.656692   \n",
            "11 \t40    \t0.669981\t0.0055434  \t0.675603   \t0.656484   \n",
            "12 \t40    \t0.669586\t0.00647282 \t0.675603   \t0.656692   \n",
            "13 \t40    \t0.670418\t0.00555585 \t0.676642   \t0.656068   \n",
            "14 \t40    \t0.670833\t0.00532728 \t0.676642   \t0.661264   \n",
            "15 \t40    \t0.67154 \t0.00563956 \t0.676642   \t0.657523   \n",
            "16 \t40    \t0.670137\t0.00537796 \t0.677889   \t0.661056   \n",
            "17 \t40    \t0.669971\t0.00760607 \t0.677889   \t0.652328   \n",
            "18 \t40    \t0.671446\t0.00556499 \t0.677889   \t0.654406   \n",
            "19 \t40    \t0.671467\t0.00581578 \t0.677889   \t0.660224   \n",
            "20 \t40    \t0.671187\t0.00596714 \t0.676642   \t0.65877    \n",
            "21 \t40    \t0.669212\t0.00655153 \t0.676642   \t0.652535   \n",
            "22 \t40    \t0.671135\t0.00573675 \t0.685162   \t0.659393   \n",
            "23 \t40    \t0.670989\t0.00509572 \t0.679135   \t0.661264   \n",
            "24 \t40    \t0.671291\t0.00520816 \t0.679135   \t0.659809   \n",
            "25 \t40    \t0.670044\t0.00574742 \t0.676642   \t0.654821   \n"
          ]
        },
        {
          "output_type": "stream",
          "name": "stderr",
          "text": [
            "/usr/local/lib/python3.7/dist-packages/sklearn/neural_network/_multilayer_perceptron.py:1109: DataConversionWarning: A column-vector y was passed when a 1d array was expected. Please change the shape of y to (n_samples, ), for example using ravel().\n",
            "  y = column_or_1d(y, warn=True)\n"
          ]
        },
        {
          "output_type": "stream",
          "name": "stdout",
          "text": [
            "{'tol': 2166195.086020421, 'alpha': 1.3898310408198733e-05, 'activation': 'tanh', 'batch_size': 320}\n",
            "0.6417390160484083\n"
          ]
        }
      ]
    },
    {
      "cell_type": "code",
      "source": [
        "tuned_params = evolved_estimator.best_params_\n",
        "print(tuned_params)"
      ],
      "metadata": {
        "colab": {
          "base_uri": "https://localhost:8080/"
        },
        "id": "fjo3GXQspPc-",
        "outputId": "9b65e75a-3043-436a-923f-4110061ff265"
      },
      "execution_count": null,
      "outputs": [
        {
          "output_type": "stream",
          "name": "stdout",
          "text": [
            "{'tol': 2166195.086020421, 'alpha': 1.3898310408198733e-05, 'activation': 'tanh', 'batch_size': 320}\n"
          ]
        }
      ]
    },
    {
      "cell_type": "code",
      "source": [
        "#Using the parameters obtained from HyperParameterTuning in the MLPClassifier\n",
        "clf = MLPClassifier(**tuned_params)\n",
        "clf.fit(X_train_25_whole, Y_train)\n",
        "clf_predict = clf.predict(kaggle_test25)\n",
        "submission = Xtest[[\"ID\"]]\n",
        "submission[\"TARGET\"]= clf_predict\n",
        "submission.to_csv(\"/gdrive/My Drive/A5/resultmlp_25.csv\", index = None)"
      ],
      "metadata": {
        "colab": {
          "base_uri": "https://localhost:8080/"
        },
        "id": "yzanAmPFpPc-",
        "outputId": "a9cc3cb8-329b-49aa-89c1-cc741e602742"
      },
      "execution_count": null,
      "outputs": [
        {
          "output_type": "stream",
          "name": "stderr",
          "text": [
            "/usr/local/lib/python3.7/dist-packages/sklearn/neural_network/_multilayer_perceptron.py:1109: DataConversionWarning: A column-vector y was passed when a 1d array was expected. Please change the shape of y to (n_samples, ), for example using ravel().\n",
            "  y = column_or_1d(y, warn=True)\n",
            "/usr/local/lib/python3.7/dist-packages/ipykernel_launcher.py:6: SettingWithCopyWarning: \n",
            "A value is trying to be set on a copy of a slice from a DataFrame.\n",
            "Try using .loc[row_indexer,col_indexer] = value instead\n",
            "\n",
            "See the caveats in the documentation: https://pandas.pydata.org/pandas-docs/stable/user_guide/indexing.html#returning-a-view-versus-a-copy\n",
            "  \n"
          ]
        }
      ]
    },
    {
      "cell_type": "markdown",
      "source": [
        "## MLP Classifier with top 50 features and GA"
      ],
      "metadata": {
        "id": "Zstz_3CjCXgX"
      }
    },
    {
      "cell_type": "code",
      "source": [
        "param_grid = {'tol': Continuous(1e-2, 1e10, distribution='log-uniform'),\n",
        "              'alpha': Continuous(1e-5, 2e-5),\n",
        "              'activation': Categorical(['logistic', 'tanh']),\n",
        "              'batch_size': Integer(300, 350)\n",
        "             }\n",
        "# The base classifier to tune\n",
        "clf = MLPClassifier(hidden_layer_sizes=(50, 30))\n",
        "# Our cross-validation strategy (it could be just an int)\n",
        "cv = StratifiedKFold(n_splits=3, shuffle=True)\n",
        "# The main class from sklearn-genetic-opt\n",
        "evolved_estimator = GASearchCV(estimator=clf,\n",
        "                              cv=cv,\n",
        "                              scoring='accuracy',\n",
        "                              param_grid=param_grid,\n",
        "                              n_jobs=-1,\n",
        "                              verbose=True,\n",
        "                              population_size=20,\n",
        "                              generations=25)\n",
        "# Train and optimize the estimator\n",
        "evolved_estimator.fit(X_rus_common50, Y_u)\n",
        "# Best parameters found\n",
        "print(evolved_estimator.best_params_)\n",
        "# Use the model fitted with the best parameters\n",
        "y_predict_ga = evolved_estimator.predict(X_test50)\n",
        "print(accuracy_score(Y_test, y_predict_ga))"
      ],
      "metadata": {
        "colab": {
          "base_uri": "https://localhost:8080/"
        },
        "outputId": "f9494854-4935-4b31-cdc2-04a2625ef217",
        "id": "MnDhdOesCXgY"
      },
      "execution_count": null,
      "outputs": [
        {
          "output_type": "stream",
          "name": "stdout",
          "text": [
            "gen\tnevals\tfitness \tfitness_std\tfitness_max\tfitness_min\n",
            "0  \t20    \t0.673047\t0.0316512  \t0.716958   \t0.613259   \n",
            "1  \t40    \t0.694483\t0.0180667  \t0.723815   \t0.653782   \n",
            "2  \t40    \t0.708468\t0.00816612 \t0.723815   \t0.689526   \n",
            "3  \t40    \t0.710505\t0.00669453 \t0.722153   \t0.698047   \n",
            "4  \t40    \t0.711866\t0.0102883  \t0.72714    \t0.694098   \n",
            "5  \t40    \t0.714266\t0.00946876 \t0.72714    \t0.689318   \n",
            "6  \t40    \t0.714017\t0.0126173  \t0.72714    \t0.685786   \n",
            "7  \t40    \t0.714973\t0.00753521 \t0.721945   \t0.693267   \n",
            "8  \t40    \t0.715222\t0.00749349 \t0.721945   \t0.696592   \n",
            "9  \t40    \t0.718277\t0.00549677 \t0.72714    \t0.702826   \n",
            "10 \t40    \t0.712282\t0.0104763  \t0.721945   \t0.69202    \n",
            "11 \t40    \t0.711399\t0.00882337 \t0.721945   \t0.69015    \n",
            "12 \t40    \t0.716168\t0.00559232 \t0.722984   \t0.70054    \n",
            "13 \t40    \t0.71781 \t0.00598233 \t0.727972   \t0.700956   \n",
            "14 \t40    \t0.714225\t0.00625387 \t0.727972   \t0.699917   \n",
            "15 \t40    \t0.713071\t0.00658317 \t0.727972   \t0.700125   \n",
            "16 \t40    \t0.71383 \t0.00771672 \t0.727972   \t0.699917   \n",
            "17 \t40    \t0.713435\t0.00908968 \t0.726933   \t0.69389    \n",
            "18 \t40    \t0.713653\t0.00821927 \t0.725478   \t0.697839   \n",
            "19 \t40    \t0.713986\t0.0104638  \t0.725478   \t0.699086   \n",
            "20 \t40    \t0.716033\t0.00944204 \t0.725478   \t0.69389    \n",
            "21 \t40    \t0.717706\t0.0077794  \t0.725478   \t0.694722   \n",
            "22 \t40    \t0.71941 \t0.00679033 \t0.727972   \t0.702826   \n",
            "23 \t40    \t0.713404\t0.0103221  \t0.725478   \t0.694098   \n",
            "24 \t40    \t0.716729\t0.00837103 \t0.725478   \t0.700748   \n",
            "25 \t40    \t0.718215\t0.00991241 \t0.725478   \t0.686617   \n"
          ]
        },
        {
          "output_type": "stream",
          "name": "stderr",
          "text": [
            "/usr/local/lib/python3.7/dist-packages/sklearn/neural_network/_multilayer_perceptron.py:1109: DataConversionWarning: A column-vector y was passed when a 1d array was expected. Please change the shape of y to (n_samples, ), for example using ravel().\n",
            "  y = column_or_1d(y, warn=True)\n"
          ]
        },
        {
          "output_type": "stream",
          "name": "stdout",
          "text": [
            "{'tol': 0.013959777166475703, 'alpha': 1.7414641362016725e-05, 'activation': 'tanh', 'batch_size': 330}\n",
            "0.7369113391212839\n"
          ]
        }
      ]
    },
    {
      "cell_type": "code",
      "source": [
        "tuned_params = evolved_estimator.best_params_\n",
        "print(tuned_params)"
      ],
      "metadata": {
        "colab": {
          "base_uri": "https://localhost:8080/"
        },
        "outputId": "1d6f2b18-c72b-4d03-fa4c-8db3e2f97fe6",
        "id": "cuCE3eSgCXgY"
      },
      "execution_count": null,
      "outputs": [
        {
          "output_type": "stream",
          "name": "stdout",
          "text": [
            "{'tol': 0.013959777166475703, 'alpha': 1.7414641362016725e-05, 'activation': 'tanh', 'batch_size': 330}\n"
          ]
        }
      ]
    },
    {
      "cell_type": "code",
      "source": [
        "#Using the parameters obtained from HyperParameterTuning in the MLPClassifier\n",
        "clf = MLPClassifier(**tuned_params)\n",
        "clf.fit(X_train_50_whole, Y_train)\n",
        "clf_predict = clf.predict(kaggle_test50)\n",
        "submission = Xtest[[\"ID\"]]\n",
        "submission[\"TARGET\"]= clf_predict\n",
        "submission.to_csv(\"/gdrive/My Drive/A5/resultmlp_50.csv\", index = None)"
      ],
      "metadata": {
        "colab": {
          "base_uri": "https://localhost:8080/"
        },
        "outputId": "f95cab09-752c-40b5-d646-025cf58cf15d",
        "id": "ibt_SvfMCXgY"
      },
      "execution_count": null,
      "outputs": [
        {
          "output_type": "stream",
          "name": "stderr",
          "text": [
            "/usr/local/lib/python3.7/dist-packages/sklearn/neural_network/_multilayer_perceptron.py:1109: DataConversionWarning: A column-vector y was passed when a 1d array was expected. Please change the shape of y to (n_samples, ), for example using ravel().\n",
            "  y = column_or_1d(y, warn=True)\n",
            "/usr/local/lib/python3.7/dist-packages/ipykernel_launcher.py:6: SettingWithCopyWarning: \n",
            "A value is trying to be set on a copy of a slice from a DataFrame.\n",
            "Try using .loc[row_indexer,col_indexer] = value instead\n",
            "\n",
            "See the caveats in the documentation: https://pandas.pydata.org/pandas-docs/stable/user_guide/indexing.html#returning-a-view-versus-a-copy\n",
            "  \n"
          ]
        }
      ]
    }
  ]
}